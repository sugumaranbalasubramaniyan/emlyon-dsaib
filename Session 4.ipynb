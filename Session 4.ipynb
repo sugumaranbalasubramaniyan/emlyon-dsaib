{
 "cells": [
  {
   "cell_type": "markdown",
   "id": "e20c26c4",
   "metadata": {},
   "source": [
    "## Generators"
   ]
  },
  {
   "cell_type": "code",
   "execution_count": 67,
   "id": "3ac2bd84",
   "metadata": {},
   "outputs": [],
   "source": [
    "def int_generator(n):\n",
    "    '''Integer generator using yield.\n",
    "    '''\n",
    "    i = 0\n",
    "    while i < n:\n",
    "        yield i # each call to yield produces a value\n",
    "        i += 1\n",
    "    return i"
   ]
  },
  {
   "cell_type": "code",
   "execution_count": 78,
   "id": "2da1aad9",
   "metadata": {},
   "outputs": [
    {
     "name": "stdout",
     "output_type": "stream",
     "text": [
      "[0, 1, 2, 3, 4, 5, 6, 7, 8, 9]\n"
     ]
    }
   ],
   "source": [
    "list_int = list()\n",
    "for i in int_generator(10):\n",
    "    list_int.append(i)\n",
    "print(list_int)"
   ]
  },
  {
   "cell_type": "code",
   "execution_count": 77,
   "id": "a5db982a",
   "metadata": {},
   "outputs": [
    {
     "name": "stdout",
     "output_type": "stream",
     "text": [
      "[0, 1, 2, 3, 4, 5, 6, 7, 8, 9]\n"
     ]
    }
   ],
   "source": [
    "print(list_int)"
   ]
  },
  {
   "cell_type": "code",
   "execution_count": 81,
   "id": "43b5fde0",
   "metadata": {},
   "outputs": [
    {
     "name": "stdout",
     "output_type": "stream",
     "text": [
      "<generator object int_generator at 0x7fea4c4db0b0>\n"
     ]
    }
   ],
   "source": []
  },
  {
   "cell_type": "code",
   "execution_count": 63,
   "id": "6035c941",
   "metadata": {},
   "outputs": [],
   "source": [
    "#Creating a function to create a list of n values \n",
    "def list_of_n(n: int) -> int:\n",
    "    '''Integer generator of n values with list.\n",
    "    '''\n",
    "    list_1 = []\n",
    "    i = 0\n",
    "    while i < n:\n",
    "        list_1.append(int(i)) # each call to yield produces a value\n",
    "        i += 1\n",
    "    return list_1"
   ]
  },
  {
   "cell_type": "code",
   "execution_count": 64,
   "id": "6ec9ac5a",
   "metadata": {},
   "outputs": [],
   "source": [
    "list_1 = [int(10)]"
   ]
  },
  {
   "cell_type": "code",
   "execution_count": 65,
   "id": "6fc1be5e",
   "metadata": {},
   "outputs": [
    {
     "data": {
      "text/plain": [
       "[10]"
      ]
     },
     "execution_count": 65,
     "metadata": {},
     "output_type": "execute_result"
    }
   ],
   "source": [
    "list_1"
   ]
  },
  {
   "cell_type": "code",
   "execution_count": 66,
   "id": "918ec914",
   "metadata": {},
   "outputs": [
    {
     "data": {
      "text/plain": [
       "[0, 1, 2, 3, 4, 5, 6, 7, 8, 9]"
      ]
     },
     "execution_count": 66,
     "metadata": {},
     "output_type": "execute_result"
    }
   ],
   "source": [
    "list_of_n(10)"
   ]
  },
  {
   "cell_type": "code",
   "execution_count": null,
   "id": "56a18097",
   "metadata": {},
   "outputs": [],
   "source": []
  },
  {
   "cell_type": "markdown",
   "id": "92a5019d",
   "metadata": {},
   "source": [
    "## Regular Expressions"
   ]
  },
  {
   "cell_type": "code",
   "execution_count": 86,
   "id": "a0930968",
   "metadata": {},
   "outputs": [],
   "source": [
    "import re"
   ]
  },
  {
   "cell_type": "code",
   "execution_count": 87,
   "id": "8a3b9faa",
   "metadata": {},
   "outputs": [
    {
     "name": "stdout",
     "output_type": "stream",
     "text": [
      "True\n"
     ]
    }
   ],
   "source": [
    "expression = '[A-Z]+S$'\n",
    "sequence = 'DATASCIENCES'\n",
    "res_match = re.match(expression, sequence)\n",
    "print('match' in str(type(res_match)).lower())"
   ]
  },
  {
   "cell_type": "code",
   "execution_count": 90,
   "id": "86017e69",
   "metadata": {},
   "outputs": [
    {
     "data": {
      "text/plain": [
       "<re.Match object; span=(0, 1), match='D'>"
      ]
     },
     "execution_count": 90,
     "metadata": {},
     "output_type": "execute_result"
    }
   ],
   "source": [
    "# Simplified example #1\n",
    "exp = '[A-Z]' # Letters from A to Z\n",
    "string = \"DATA\" # Input String\n",
    "string_match = re.match(exp, string) #Matching Input string with the given experession\n",
    "string_match #printing the output"
   ]
  },
  {
   "cell_type": "code",
   "execution_count": 93,
   "id": "fc688024",
   "metadata": {},
   "outputs": [
    {
     "name": "stdout",
     "output_type": "stream",
     "text": [
      "True\n"
     ]
    }
   ],
   "source": [
    "print('Match' in str(type(string_match))) #Check whether the output contains the string \"Match\""
   ]
  },
  {
   "cell_type": "code",
   "execution_count": 94,
   "id": "18652a6f",
   "metadata": {},
   "outputs": [
    {
     "data": {
      "text/plain": [
       "<re.Match object; span=(0, 1), match='D'>"
      ]
     },
     "execution_count": 94,
     "metadata": {},
     "output_type": "execute_result"
    }
   ],
   "source": [
    "# Simplified example #2\n",
    "exp = '[A-Za-z]' # Letters from A to Z\n",
    "string = \"DATAscience\" # Input String\n",
    "string_match = re.match(exp, string) #Matching Input string with the given experession\n",
    "string_match #printing the output"
   ]
  },
  {
   "cell_type": "code",
   "execution_count": 95,
   "id": "24dc4ae2",
   "metadata": {},
   "outputs": [
    {
     "name": "stdout",
     "output_type": "stream",
     "text": [
      "True\n"
     ]
    }
   ],
   "source": [
    "print('Match' in str(type(string_match))) #Check whether the output contains the string \"Match\""
   ]
  },
  {
   "cell_type": "code",
   "execution_count": 98,
   "id": "149bbf8a",
   "metadata": {},
   "outputs": [],
   "source": [
    "# Simplified example #3\n",
    "exp = '[A-Za-z]+S' # Letters from A to Z\n",
    "string = \"DATAscience\" # Input String\n",
    "string_match = re.match(exp, string) #Matching Input string with the given experession\n",
    "string_match #printing the output"
   ]
  },
  {
   "cell_type": "code",
   "execution_count": 99,
   "id": "5bd40e54",
   "metadata": {},
   "outputs": [
    {
     "name": "stdout",
     "output_type": "stream",
     "text": [
      "False\n"
     ]
    }
   ],
   "source": [
    "print('Match' in str(type(string_match))) #Check whether the output contains the string \"Match\""
   ]
  },
  {
   "cell_type": "code",
   "execution_count": 104,
   "id": "177040c9",
   "metadata": {},
   "outputs": [],
   "source": [
    "# Simplified example #3\n",
    "exp = '[A-Z]' # Letters from A to Z\n",
    "string = \"science\" # Input String\n",
    "string_match = re.match(exp, string) #Matching Input string with the given experession\n",
    "string_match #printing the output"
   ]
  },
  {
   "cell_type": "code",
   "execution_count": 105,
   "id": "3114e409",
   "metadata": {},
   "outputs": [
    {
     "name": "stdout",
     "output_type": "stream",
     "text": [
      "False\n"
     ]
    }
   ],
   "source": [
    "print('Match' in str(type(string_match))) #Check whether the output contains the string \"Match\""
   ]
  },
  {
   "cell_type": "code",
   "execution_count": 107,
   "id": "90ea046b",
   "metadata": {},
   "outputs": [],
   "source": [
    "#Checking whether the given number is a valid French number\n",
    "num = '05 09 33 99 83'"
   ]
  },
  {
   "cell_type": "code",
   "execution_count": 111,
   "id": "3f658a8f",
   "metadata": {},
   "outputs": [
    {
     "data": {
      "text/plain": [
       "<re.Match object; span=(0, 1), match='0'>"
      ]
     },
     "execution_count": 111,
     "metadata": {},
     "output_type": "execute_result"
    }
   ],
   "source": [
    "#check whether the number starts with 0\n",
    "syntax = '^0'\n",
    "num_match = re.match(syntax, num)\n",
    "num_match"
   ]
  },
  {
   "cell_type": "code",
   "execution_count": 112,
   "id": "17b8011a",
   "metadata": {},
   "outputs": [
    {
     "data": {
      "text/plain": [
       "<re.Match object; span=(0, 2), match='05'>"
      ]
     },
     "execution_count": 112,
     "metadata": {},
     "output_type": "execute_result"
    }
   ],
   "source": [
    "#check whether the number starts with 0 and has numbers from 0 to 9\n",
    "syntax = '^0([0-9])'\n",
    "num_match = re.match(syntax, num)\n",
    "num_match"
   ]
  },
  {
   "cell_type": "code",
   "execution_count": 118,
   "id": "692edaa4",
   "metadata": {},
   "outputs": [
    {
     "data": {
      "text/plain": [
       "<re.Match object; span=(0, 5), match='05 09'>"
      ]
     },
     "execution_count": 118,
     "metadata": {},
     "output_type": "execute_result"
    }
   ],
   "source": [
    "#check whether the number starts with 0 and has numbers from 0 to 9 and has space followed with two digits --> ^0([0-9])([\\s][0-9]{2})\n",
    "syntax = '^0([0-9])([\\s][0-9]{2})'\n",
    "num_match = re.match(syntax, num)\n",
    "num_match"
   ]
  },
  {
   "cell_type": "code",
   "execution_count": 120,
   "id": "ce828ae5",
   "metadata": {},
   "outputs": [
    {
     "data": {
      "text/plain": [
       "<re.Match object; span=(0, 14), match='05 09 33 99 83'>"
      ]
     },
     "execution_count": 120,
     "metadata": {},
     "output_type": "execute_result"
    }
   ],
   "source": [
    "#check whether the number starts with 0 and has numbers from 0 to 9 and has space followed with two digits repeated for 4 times--> ^0([0-9])([\\s][0-9]{2}){4}\n",
    "syntax = '^0([0-9])(([\\s][0-9]{2})){4}'\n",
    "num_match = re.match(syntax, num)\n",
    "num_match"
   ]
  },
  {
   "cell_type": "code",
   "execution_count": null,
   "id": "80e86bb7",
   "metadata": {},
   "outputs": [],
   "source": []
  }
 ],
 "metadata": {
  "kernelspec": {
   "display_name": "Python 3 (ipykernel)",
   "language": "python",
   "name": "python3"
  },
  "language_info": {
   "codemirror_mode": {
    "name": "ipython",
    "version": 3
   },
   "file_extension": ".py",
   "mimetype": "text/x-python",
   "name": "python",
   "nbconvert_exporter": "python",
   "pygments_lexer": "ipython3",
   "version": "3.9.12"
  }
 },
 "nbformat": 4,
 "nbformat_minor": 5
}

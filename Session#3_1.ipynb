{
 "cells": [
  {
   "cell_type": "code",
   "execution_count": 2,
   "id": "25331ba1",
   "metadata": {},
   "outputs": [
    {
     "data": {
      "text/html": [
       "<b><font color='blus'>Algorithmic complexity</font></b>\n",
       "<div id=\"my_id_menu_nb\">run previous cell, wait for 2 seconds</div>\n",
       "<script>\n",
       "function repeat_indent_string(n){\n",
       "    var a = \"\" ;\n",
       "    for ( ; n > 0 ; --n)\n",
       "        a += \"    \";\n",
       "    return a;\n",
       "}\n",
       "// look up into all sections and builds an automated menu //\n",
       "var update_menu_string = function(begin, lfirst, llast, sformat, send, keep_item, begin_format, end_format) {\n",
       "    var anchors = document.getElementsByClassName(\"section\");\n",
       "    if (anchors.length == 0) {\n",
       "        anchors = document.getElementsByClassName(\"text_cell_render rendered_html\");\n",
       "    }\n",
       "    var i,t;\n",
       "    var text_menu = begin;\n",
       "    var text_memo = \"<pre>\\nlength:\" + anchors.length + \"\\n\";\n",
       "    var ind = \"\";\n",
       "    var memo_level = 1;\n",
       "    var href;\n",
       "    var tags = [];\n",
       "    var main_item = 0;\n",
       "    var format_open = 0;\n",
       "    for (i = 0; i <= llast; i++)\n",
       "        tags.push(\"h\" + i);\n",
       "\n",
       "    for (i = 0; i < anchors.length; i++) {\n",
       "        text_memo += \"**\" + anchors[i].id + \"--\\n\";\n",
       "\n",
       "        var child = null;\n",
       "        for(t = 0; t < tags.length; t++) {\n",
       "            var r = anchors[i].getElementsByTagName(tags[t]);\n",
       "            if (r.length > 0) {\n",
       "child = r[0];\n",
       "break;\n",
       "            }\n",
       "        }\n",
       "        if (child == null) {\n",
       "            text_memo += \"null\\n\";\n",
       "            continue;\n",
       "        }\n",
       "        if (anchors[i].hasAttribute(\"id\")) {\n",
       "            // when converted in RST\n",
       "            href = anchors[i].id;\n",
       "            text_memo += \"#1-\" + href;\n",
       "            // passer à child suivant (le chercher)\n",
       "        }\n",
       "        else if (child.hasAttribute(\"id\")) {\n",
       "            // in a notebook\n",
       "            href = child.id;\n",
       "            text_memo += \"#2-\" + href;\n",
       "        }\n",
       "        else {\n",
       "            text_memo += \"#3-\" + \"*\" + \"\\n\";\n",
       "            continue;\n",
       "        }\n",
       "        var title = child.textContent;\n",
       "        var level = parseInt(child.tagName.substring(1,2));\n",
       "\n",
       "        text_memo += \"--\" + level + \"?\" + lfirst + \"--\" + title + \"\\n\";\n",
       "\n",
       "        if ((level < lfirst) || (level > llast)) {\n",
       "            continue ;\n",
       "        }\n",
       "        if (title.endsWith('¶')) {\n",
       "            title = title.substring(0,title.length-1).replace(\"<\", \"&lt;\")\n",
       "         .replace(\">\", \"&gt;\").replace(\"&\", \"&amp;\");\n",
       "        }\n",
       "        if (title.length == 0) {\n",
       "            continue;\n",
       "        }\n",
       "\n",
       "        while (level < memo_level) {\n",
       "            text_menu += end_format + \"</ul>\\n\";\n",
       "            format_open -= 1;\n",
       "            memo_level -= 1;\n",
       "        }\n",
       "        if (level == lfirst) {\n",
       "            main_item += 1;\n",
       "        }\n",
       "        if (keep_item != -1 && main_item != keep_item + 1) {\n",
       "            // alert(main_item + \" - \" + level + \" - \" + keep_item);\n",
       "            continue;\n",
       "        }\n",
       "        while (level > memo_level) {\n",
       "            text_menu += \"<ul>\\n\";\n",
       "            memo_level += 1;\n",
       "        }\n",
       "        text_menu += repeat_indent_string(level-2);\n",
       "        text_menu += begin_format + sformat.replace(\"__HREF__\", href).replace(\"__TITLE__\", title);\n",
       "        format_open += 1;\n",
       "    }\n",
       "    while (1 < memo_level) {\n",
       "        text_menu += end_format + \"</ul>\\n\";\n",
       "        memo_level -= 1;\n",
       "        format_open -= 1;\n",
       "    }\n",
       "    text_menu += send;\n",
       "    //text_menu += \"\\n\" + text_memo;\n",
       "\n",
       "    while (format_open > 0) {\n",
       "        text_menu += end_format;\n",
       "        format_open -= 1;\n",
       "    }\n",
       "    return text_menu;\n",
       "};\n",
       "var update_menu = function() {\n",
       "    var sbegin = \"\";\n",
       "    var sformat = '<a href=\"#__HREF__\">__TITLE__</a>';\n",
       "    var send = \"\";\n",
       "    var begin_format = '<li>';\n",
       "    var end_format = '</li>';\n",
       "    var keep_item = -1;\n",
       "    var text_menu = update_menu_string(sbegin, 1, 4, sformat, send, keep_item,\n",
       "       begin_format, end_format);\n",
       "    var menu = document.getElementById(\"my_id_menu_nb\");\n",
       "    menu.innerHTML=text_menu;\n",
       "};\n",
       "window.setTimeout(update_menu,2000);\n",
       "            </script>"
      ],
      "text/plain": [
       "<IPython.core.display.HTML object>"
      ]
     },
     "execution_count": 2,
     "metadata": {},
     "output_type": "execute_result"
    }
   ],
   "source": [
    "from jyquickhelper import add_notebook_menu\n",
    "add_notebook_menu(first_level=1, last_level=4, header=\"<font color='blus'>Algorithmic complexity</font>\")"
   ]
  },
  {
   "cell_type": "markdown",
   "id": "7e323203",
   "metadata": {},
   "source": [
    "# <font color='blus'>Imports"
   ]
  },
  {
   "cell_type": "code",
   "execution_count": 3,
   "id": "59a5ac73",
   "metadata": {},
   "outputs": [],
   "source": [
    "%load_ext autoreload\n",
    "%autoreload 2\n",
    "\n",
    "%matplotlib inline"
   ]
  },
  {
   "cell_type": "code",
   "execution_count": 4,
   "id": "f23e7571",
   "metadata": {},
   "outputs": [],
   "source": [
    "# modules de bases\n",
    "import os\n",
    "import sys\n",
    "import copy\n",
    "\n",
    "# numpy, scipy, pandas\n",
    "import numpy as np\n",
    "import scipy.special as sp\n",
    "import pandas as pd\n",
    "import random\n",
    "\n",
    "from timeit import Timer\n",
    "\n",
    "# pour la visualisation\n",
    "from IPython.display import display\n",
    "from matplotlib import pyplot as plt # import matplotlib.pyplot as plt\n",
    "# plotly\n",
    "# seaborn\n",
    "# altair\n",
    "\n",
    "import random as rd"
   ]
  },
  {
   "cell_type": "markdown",
   "id": "fb609b81",
   "metadata": {},
   "source": [
    "# <font color='blus'>Complexity theory"
   ]
  },
  {
   "attachments": {
    "complexity_flightBirds.jpeg": {
     "image/jpeg": "[encoded data removed]"
    }
   },
   "cell_type": "markdown",
   "id": "e5627703",
   "metadata": {},
   "source": [
    "> ![complexity_flightBirds.jpeg](attachment:complexity_flightBirds.jpeg)"
   ]
  },
  {
   "cell_type": "markdown",
   "id": "03d4b90d",
   "metadata": {},
   "source": [
    "> A system composed of a large number of interacting components, without central control, whose emergent \"global'' behavior—described in terms of dynamics, information processing, and/or adaptation —is more complex than can be explained or predicted from understanding the sum of the behavior of the individual components. \n",
    ">\n",
    "> Complex systems are generally capable of adapting to changing inputs/environment and in such cases sometimes referred to as complex adaptive systems."
   ]
  },
  {
   "attachments": {
    "cellularAutomaton.jpeg": {
     "image/jpeg": "[encoded data removed]"
    }
   },
   "cell_type": "markdown",
   "id": "add34f39",
   "metadata": {},
   "source": [
    "> ![cellularAutomaton.jpeg](attachment:cellularAutomaton.jpeg)"
   ]
  },
  {
   "cell_type": "markdown",
   "id": "8f19c8d2",
   "metadata": {},
   "source": [
    "> *Theory of cellular automaton*"
   ]
  },
  {
   "attachments": {
    "Church-Turing+Thesis%20%281%29.jpg": {
     "image/jpeg": "[encoded data removed]"
    }
   },
   "cell_type": "markdown",
   "id": "0b55fbcb",
   "metadata": {},
   "source": [
    ">![Church-Turing+Thesis%20%281%29.jpg](attachment:Church-Turing+Thesis%20%281%29.jpg)"
   ]
  },
  {
   "cell_type": "markdown",
   "id": "37874566",
   "metadata": {},
   "source": [
    "> The Church-Turing thesis : \n",
    ">\n",
    ">**Any function that is \"computable\" -- that is, that can be computed by an algorithm -- can be computed by a universal Turing machine**"
   ]
  },
  {
   "cell_type": "markdown",
   "id": "c6eeee67",
   "metadata": {},
   "source": [
    "> It is a branch of theoretical computer science.\n",
    ">\n",
    "> This branch deals with the necessary resources, memory and time, to compute an algorithmic problem.\n",
    ">\n",
    "> Problems are classified into complexity classes: P, NP, ...\n",
    ">\n",
    "> Measuring complexity allows to adapt resources to computers tasks and optimize algorithms.\n",
    ">\n",
    "> In this course, we will focus on **time** resource. We use a kind of algorithm, particularly adapted to measure this quantity, both the **searching** and **sorting** algorithms.\n",
    ">"
   ]
  },
  {
   "cell_type": "markdown",
   "id": "4170ac84",
   "metadata": {},
   "source": [
    "# <font color='blus'>Algorithms over `Python` lists"
   ]
  },
  {
   "cell_type": "markdown",
   "id": "11a6dfe7",
   "metadata": {},
   "source": [
    "**Note**: to teach algorithms and illustrate fundamental notions like algorithmic complexities, it is probably better to break python's best practices and avoid its idioms, in short, to use python as a low level programming language.\n",
    "\n",
    "\n",
    "**Search for an item in a list**\n",
    "\n",
    "See the [doc](https://ipython.readthedocs.io/en/stable/interactive/magics.html) for the `%time` magic command."
   ]
  },
  {
   "cell_type": "markdown",
   "id": "b059fd1e",
   "metadata": {},
   "source": [
    ">> `%%time` is a so-called \"magic\" command of `IPython`.\n",
    ">>\n",
    ">> For the whole cell, `%%time` displays the CPU time and the wait time for the result.\n",
    ">>\n",
    ">> `%time` displays the CPU time and the wait time for the result of a single statement line."
   ]
  },
  {
   "cell_type": "markdown",
   "id": "fcf91d47",
   "metadata": {},
   "source": [
    "> The list comprehension below generates a list of 1 million pseudo-random values, ranging from 1 to 10001"
   ]
  },
  {
   "cell_type": "code",
   "execution_count": 5,
   "id": "32163614",
   "metadata": {},
   "outputs": [
    {
     "name": "stdout",
     "output_type": "stream",
     "text": [
      "1000000\n",
      "CPU times: total: 1.55 s\n",
      "Wall time: 1.54 s\n"
     ]
    }
   ],
   "source": [
    "%%time\n",
    "import random as rd\n",
    "n = int(1e6)\n",
    "p = int(1e4)\n",
    "liste_test = [rd.randint(0,p)+1 for _ in range(n)]\n",
    "print(len(liste_test))"
   ]
  },
  {
   "cell_type": "markdown",
   "id": "85a238d1",
   "metadata": {},
   "source": [
    "> **User CPU time** is the amount of time the processor spends in running application / Python code.\n",
    ">\n",
    "> **System CPU Time** is the amount of time the processor spends in running the operating system(i.e., kernel), system libraries."
   ]
  },
  {
   "cell_type": "code",
   "execution_count": 6,
   "id": "85d3a601",
   "metadata": {},
   "outputs": [
    {
     "name": "stdout",
     "output_type": "stream",
     "text": [
      "[886, 4881, 4750, 1050, 1766, 3546, 5953, 1349, 6001, 4212]\n"
     ]
    },
    {
     "data": {
      "text/plain": [
       "(1, 10001, 1000000)"
      ]
     },
     "execution_count": 6,
     "metadata": {},
     "output_type": "execute_result"
    }
   ],
   "source": [
    "print(liste_test[:10]) \n",
    "min(liste_test), max(liste_test), len(liste_test)"
   ]
  },
  {
   "cell_type": "code",
   "execution_count": 7,
   "id": "85882a0f",
   "metadata": {},
   "outputs": [
    {
     "data": {
      "text/plain": [
       "(5325, 6530, 9286)"
      ]
     },
     "execution_count": 7,
     "metadata": {},
     "output_type": "execute_result"
    }
   ],
   "source": [
    "liste_test.index(7010), liste_test.index(5926), liste_test[-1]"
   ]
  },
  {
   "cell_type": "code",
   "execution_count": null,
   "id": "a4c7b67b",
   "metadata": {},
   "outputs": [],
   "source": []
  },
  {
   "cell_type": "raw",
   "id": "3d568cda",
   "metadata": {},
   "source": [
    "from collections import Counter\n",
    "sorted(Counter(liste_test).items(), reverse=True, key=lambda val_occurence: val_occurence[1])"
   ]
  },
  {
   "cell_type": "markdown",
   "id": "f76f30fe",
   "metadata": {},
   "source": [
    "## <font color='blus'>Searching for an item in a list"
   ]
  },
  {
   "cell_type": "markdown",
   "id": "e5d01d77",
   "metadata": {},
   "source": [
    "> For each value of the list, we retrieve the corresponding index in the list and we thus build the list of indexes.\n",
    ">\n",
    "> In the example below, the index associated with the value `'e'` of the list `list_` is `4`."
   ]
  },
  {
   "cell_type": "code",
   "execution_count": 8,
   "id": "673ab2c6",
   "metadata": {},
   "outputs": [
    {
     "name": "stdout",
     "output_type": "stream",
     "text": [
      "['a', 'b', 'c', 'd', 'e']\n",
      "4 4\n"
     ]
    }
   ],
   "source": [
    "list_ = ['a', 'b', 'c', 'd', 'e']\n",
    "print(list_)\n",
    "list_.index('e')\n",
    "list_index = [list_.index(l) for l in list_]#\n",
    "max_index = max(list_index)\n",
    "\n",
    "element = list_index.index(max_index)# \n",
    "print(element, max_index)"
   ]
  },
  {
   "cell_type": "code",
   "execution_count": 9,
   "id": "beee5ef8",
   "metadata": {},
   "outputs": [
    {
     "data": {
      "text/plain": [
       "4"
      ]
     },
     "execution_count": 9,
     "metadata": {},
     "output_type": "execute_result"
    }
   ],
   "source": [
    "list_.index(list_[-1])"
   ]
  },
  {
   "cell_type": "code",
   "execution_count": 10,
   "id": "57b80b86",
   "metadata": {},
   "outputs": [
    {
     "data": {
      "text/plain": [
       "10000"
      ]
     },
     "execution_count": 10,
     "metadata": {},
     "output_type": "execute_result"
    }
   ],
   "source": [
    "p"
   ]
  },
  {
   "cell_type": "code",
   "execution_count": 11,
   "id": "88d3c893",
   "metadata": {},
   "outputs": [
    {
     "data": {
      "text/plain": [
       "1239"
      ]
     },
     "execution_count": 11,
     "metadata": {},
     "output_type": "execute_result"
    }
   ],
   "source": [
    "list_index = [liste_test.index(l) for l in range(1,p+1)]\n",
    "max_index = max(list_index)# Get greater index in the list\n",
    "element = list_index.index(max_index)# Then we retrieve the value in the list for this index\n",
    "element"
   ]
  },
  {
   "cell_type": "code",
   "execution_count": 12,
   "id": "6dfbba8a",
   "metadata": {},
   "outputs": [
    {
     "name": "stdout",
     "output_type": "stream",
     "text": [
      "[537, 1024, 1297, 448, 185, 34843, 7922, 4516, 1337, 1146]\n"
     ]
    },
    {
     "data": {
      "text/plain": [
       "111678"
      ]
     },
     "execution_count": 12,
     "metadata": {},
     "output_type": "execute_result"
    }
   ],
   "source": [
    "print(list_index[:10])\n",
    "max_index"
   ]
  },
  {
   "cell_type": "markdown",
   "id": "4d88f565",
   "metadata": {},
   "source": [
    "### <font color='blus'> Naive search"
   ]
  },
  {
   "cell_type": "markdown",
   "id": "509db1ec",
   "metadata": {},
   "source": [
    "> We go through all the elements of the list and we compare them one by one with the element we are looking for.\n",
    ">\n",
    "> A test (`if` control structure) is made on each of the elements"
   ]
  },
  {
   "cell_type": "code",
   "execution_count": 13,
   "id": "51735010",
   "metadata": {},
   "outputs": [],
   "source": [
    "def naive_search(liste,elt):\n",
    "    for i in range(len(liste)):\n",
    "        if liste[i] == elt:\n",
    "            return i\n",
    "    return -1"
   ]
  },
  {
   "cell_type": "markdown",
   "id": "ad17946a",
   "metadata": {},
   "source": [
    "> The `%time` statement applies to the cell line."
   ]
  },
  {
   "cell_type": "code",
   "execution_count": 14,
   "id": "9548011a",
   "metadata": {},
   "outputs": [
    {
     "name": "stdout",
     "output_type": "stream",
     "text": [
      "CPU times: total: 0 ns\n",
      "Wall time: 0 ns\n"
     ]
    },
    {
     "data": {
      "text/plain": [
       "4995"
      ]
     },
     "execution_count": 14,
     "metadata": {},
     "output_type": "execute_result"
    }
   ],
   "source": [
    "%time naive_search(liste_test,element)"
   ]
  },
  {
   "cell_type": "markdown",
   "id": "26932e75",
   "metadata": {},
   "source": [
    "> In programming, a test (`if` statement)consumes several processor cycles. This is a costly statement that we avoid inserting in a loop (`for`)."
   ]
  },
  {
   "cell_type": "markdown",
   "id": "c22e9950",
   "metadata": {},
   "source": [
    "### <font color='blus'> Search with the `enumerate` function"
   ]
  },
  {
   "cell_type": "code",
   "execution_count": 15,
   "id": "ead771f0",
   "metadata": {},
   "outputs": [],
   "source": [
    "def enumerate_search(liste,elt):\n",
    "    for i,item in enumerate(liste):\n",
    "        if item == elt:\n",
    "            return i\n",
    "    return -1"
   ]
  },
  {
   "cell_type": "code",
   "execution_count": 16,
   "id": "e53e2d13",
   "metadata": {},
   "outputs": [
    {
     "name": "stdout",
     "output_type": "stream",
     "text": [
      "CPU times: total: 0 ns\n",
      "Wall time: 0 ns\n"
     ]
    },
    {
     "data": {
      "text/plain": [
       "4995"
      ]
     },
     "execution_count": 16,
     "metadata": {},
     "output_type": "execute_result"
    }
   ],
   "source": [
    "%time enumerate_search(liste_test,element)"
   ]
  },
  {
   "cell_type": "markdown",
   "id": "c3d8c3fa",
   "metadata": {},
   "source": [
    "> Algorithm implemented into `enumerate_search` function is more optimized than our naive search. This is due to the fact that in naive search, a memory access is performed in the list (`list[i]`) and this access is more expensive than going through the native `enumerate` function to retrieve the elements of the list.\n",
    ">\n",
    "> Indeed the memory address `list[i]` must be recalculated at each iteration, which consumes several processor cycles.\n",
    ">\n",
    "> **NB : When you need an algorithm, make sure that it has not still alerady been implemented in some Python library.** Native algorithms are often higly optimized."
   ]
  },
  {
   "cell_type": "markdown",
   "id": "a7a486a7",
   "metadata": {},
   "source": [
    "### <font color='blus'> Searching with the `index` method of the list"
   ]
  },
  {
   "cell_type": "code",
   "execution_count": 17,
   "id": "4e75bc9c",
   "metadata": {},
   "outputs": [],
   "source": [
    "def recherche_index(liste,elt):\n",
    "    return liste.index(elt)"
   ]
  },
  {
   "cell_type": "code",
   "execution_count": 18,
   "id": "818c45dc",
   "metadata": {},
   "outputs": [
    {
     "name": "stdout",
     "output_type": "stream",
     "text": [
      "CPU times: total: 0 ns\n",
      "Wall time: 0 ns\n"
     ]
    },
    {
     "data": {
      "text/plain": [
       "4995"
      ]
     },
     "execution_count": 18,
     "metadata": {},
     "output_type": "execute_result"
    }
   ],
   "source": [
    "%time recherche_index(liste_test,element)"
   ]
  },
  {
   "cell_type": "markdown",
   "id": "9ddd714a",
   "metadata": {},
   "source": [
    "> - No loop is used in the search program.\n",
    ">\n",
    "> - The element's memory address is calculated and accessed only once.\n",
    ">\n",
    "> - No test is done, which saves processor cycle time and highlights, by the way, the cost of an `if` test.\n",
    ">\n",
    "> Note that the methods of the classes are optimized in the `C` language. Most algorithms in `Python` are\n",
    "underlyingly written in the `C` language. The latter is a so-called **low level** language in the sense that it is necessary to understand the organization of the memory of a processor in order to code efficiently.\n",
    ">\n",
    "> The level of `C` language is just above assembly language."
   ]
  },
  {
   "cell_type": "markdown",
   "id": "74f24ebf",
   "metadata": {},
   "source": [
    "### <font color='blus'> Searching in a list using recursion algorithm"
   ]
  },
  {
   "cell_type": "markdown",
   "id": "f394e99c",
   "metadata": {},
   "source": [
    "> A recursive function is related to recurrent sequences, such as:\n",
    ">> $U_{n+1} = 2U_n +3$\n",
    ">\n",
    "> The recursive function calls itself."
   ]
  },
  {
   "cell_type": "code",
   "execution_count": 19,
   "id": "cd64ea5c",
   "metadata": {},
   "outputs": [],
   "source": [
    "def recursive_search(liste,elt,index=0):\n",
    "    if liste[0] == elt:\n",
    "        return index;\n",
    "    else:\n",
    "        # Proceed to recursion over the list where 1st element has been removed.\n",
    "        return recursive_search(liste[1:],elt,index+1)"
   ]
  },
  {
   "cell_type": "code",
   "execution_count": 20,
   "id": "f05f2a24",
   "metadata": {},
   "outputs": [],
   "source": [
    "if False :\n",
    "    %time recursive_search(liste_test,element)"
   ]
  },
  {
   "cell_type": "markdown",
   "id": "fc6db90d",
   "metadata": {},
   "source": [
    "> The time and resources required to solve an algorithmic problem vary according to the algorithm used.\n",
    ">\n",
    "> Enabling recursive search will crash the `Python` kernel, in the sense that the call stack that uses RAM memory will be full before it can exit the recursive process."
   ]
  },
  {
   "cell_type": "markdown",
   "id": "c9c3a737",
   "metadata": {},
   "source": [
    "> The function below gives the limit depth of recursions.\n",
    ">\n",
    "> Using `set` assessor allows to upgrade this limit.\n",
    ">\n",
    "> Then, this limit can be changed, but it is not recommended: `sys.setrecursionlimit(124000)`\n",
    ">\n",
    "> Using `sys` API (Application Programming Interface), we reach the `system programming` level."
   ]
  },
  {
   "cell_type": "code",
   "execution_count": 24,
   "id": "a5019ce8",
   "metadata": {},
   "outputs": [
    {
     "name": "stdout",
     "output_type": "stream",
     "text": [
      "3000\n"
     ]
    }
   ],
   "source": [
    "import sys\n",
    "print(sys.getrecursionlimit())"
   ]
  },
  {
   "cell_type": "markdown",
   "id": "4c31e757",
   "metadata": {},
   "source": [
    "> To avoid the problem of memory saturation, we will truncate the original list and search for the element at the last index, means, the last position in the list"
   ]
  },
  {
   "cell_type": "code",
   "execution_count": 25,
   "id": "90ac7732",
   "metadata": {},
   "outputs": [
    {
     "name": "stdout",
     "output_type": "stream",
     "text": [
      "10000\n",
      "7588\n"
     ]
    }
   ],
   "source": [
    "len(liste_test)\n",
    "liste_test_troncated = liste_test[:10000]\n",
    "print(len(liste_test_troncated))\n",
    "element = liste_test_troncated[-1]\n",
    "print(element)"
   ]
  },
  {
   "cell_type": "code",
   "execution_count": null,
   "id": "9702432d",
   "metadata": {},
   "outputs": [],
   "source": [
    "%%time \n",
    "id = recursive_search(liste_test_troncated,element)\n",
    "print(liste_test_troncated[id])"
   ]
  },
  {
   "cell_type": "markdown",
   "id": "f34b593a",
   "metadata": {},
   "source": [
    "> **For a list 100 times smaller, the algorithm time is multiplied by a factor of 100 000.**"
   ]
  },
  {
   "cell_type": "code",
   "execution_count": 1,
   "id": "083f059e",
   "metadata": {},
   "outputs": [],
   "source": [
    "# # on peut changer cette limite, mais cela n'est pas recommandé\n",
    "# sys.setrecursionlimit(124000)"
   ]
  },
  {
   "cell_type": "markdown",
   "id": "09e99a22",
   "metadata": {},
   "source": [
    "# <font color='blus'>Using data structures under `numpy`"
   ]
  },
  {
   "cell_type": "markdown",
   "id": "a2dc631c",
   "metadata": {},
   "source": [
    "Avec numpy:"
   ]
  },
  {
   "cell_type": "markdown",
   "id": "800bff46",
   "metadata": {},
   "source": [
    "> `numpy` is an abbreviation of numerical python. It is a library dedicated to scientific programming.\n",
    ">\n",
    "> `numpy` allows you to manipulate, among other things, arrays (vectors in the mathematical sense of the term), matrices (bilinear forms), tensors (multilinear forms), statistics, probabilities.\n",
    ">\n",
    "> `numpy` covers areas the `scipy` lib covers.\n",
    ">\n",
    "> With `pandas`, `numpy` is one of the most widely used libraries in datascience.\n",
    ">\n",
    "> In the following examples, lists are converted to tables."
   ]
  },
  {
   "cell_type": "code",
   "execution_count": 21,
   "id": "3f527396",
   "metadata": {},
   "outputs": [],
   "source": [
    "import numpy as np # notez que, par convention, l'alias de numpy est np."
   ]
  },
  {
   "cell_type": "code",
   "execution_count": 22,
   "id": "7d28d05d",
   "metadata": {},
   "outputs": [
    {
     "name": "stdout",
     "output_type": "stream",
     "text": [
      "CPU times: total: 62.5 ms\n",
      "Wall time: 65.7 ms\n"
     ]
    }
   ],
   "source": [
    "%time test_nparray = np.asarray(liste_test)"
   ]
  },
  {
   "cell_type": "markdown",
   "id": "65fd52b0",
   "metadata": {},
   "source": [
    "## <font color='blus'>Generate an array under `numpy`"
   ]
  },
  {
   "cell_type": "markdown",
   "id": "d84a0e04",
   "metadata": {},
   "source": [
    "> An array of type int, with one dimension, n, is generated with random numbers between 1 and 1000."
   ]
  },
  {
   "cell_type": "code",
   "execution_count": 23,
   "id": "98534be5",
   "metadata": {},
   "outputs": [
    {
     "name": "stdout",
     "output_type": "stream",
     "text": [
      "CPU times: total: 1.42 s\n",
      "Wall time: 1.42 s\n"
     ]
    }
   ],
   "source": [
    "%%time\n",
    "n = int(1e6)\n",
    "test_nparray2 = np.fromfunction(np.vectorize(lambda i: rd.randint(0, 1000)+1), (n,), dtype=int)"
   ]
  },
  {
   "cell_type": "markdown",
   "id": "d19aef9a",
   "metadata": {},
   "source": [
    "## <font color='blus'>Find an element with the `where` method of a `numpy` array"
   ]
  },
  {
   "cell_type": "code",
   "execution_count": 24,
   "id": "98e3b179",
   "metadata": {},
   "outputs": [
    {
     "name": "stdout",
     "output_type": "stream",
     "text": [
      "CPU times: total: 0 ns\n",
      "Wall time: 3.79 ms\n"
     ]
    },
    {
     "data": {
      "text/plain": [
       "(array([  4995,   6099,  15941,  17849,  31648,  41892,  69978,  84134,\n",
       "         86795,  92387,  93154, 110105, 120439, 150012, 167512, 169008,\n",
       "        178845, 189014, 198906, 199865, 204475, 213966, 243621, 255397,\n",
       "        261669, 278668, 283242, 295507, 298456, 328286, 346618, 358103,\n",
       "        373378, 403647, 406441, 409533, 410521, 445399, 452382, 460397,\n",
       "        470261, 477312, 504773, 531976, 535113, 562684, 576436, 587234,\n",
       "        593604, 609265, 629323, 655255, 660282, 662805, 663578, 664893,\n",
       "        693559, 699735, 702911, 705449, 716280, 722413, 776412, 786123,\n",
       "        804230, 809274, 811089, 814395, 830382, 832313, 840637, 847084,\n",
       "        850210, 856720, 857369, 858651, 872626, 889601, 909950, 924056,\n",
       "        957500, 964864, 973243, 990574], dtype=int64),)"
      ]
     },
     "execution_count": 24,
     "metadata": {},
     "output_type": "execute_result"
    }
   ],
   "source": [
    "%time np.where(test_nparray == element)"
   ]
  },
  {
   "cell_type": "markdown",
   "id": "b533dd77",
   "metadata": {},
   "source": [
    "> We have retrieved the list of all the indices from the array `test_nparray`.\n",
    ">\n",
    "> These indices corresponds with the value of `element`.\n",
    ">\n",
    "> Note the similarity of the `where` keyword with the languages of the `SQL` family."
   ]
  },
  {
   "cell_type": "code",
   "execution_count": 25,
   "id": "4625d5fa",
   "metadata": {},
   "outputs": [
    {
     "name": "stdout",
     "output_type": "stream",
     "text": [
      "889 1239\n",
      "1362 1239\n"
     ]
    }
   ],
   "source": [
    "print(test_nparray[966692], element)\n",
    "print(test_nparray[877119], element)"
   ]
  },
  {
   "cell_type": "markdown",
   "id": "45367304",
   "metadata": {},
   "source": [
    "> The `shape` property below gives the dimensions of the array, here to an input."
   ]
  },
  {
   "cell_type": "code",
   "execution_count": 26,
   "id": "b6716c71",
   "metadata": {},
   "outputs": [
    {
     "data": {
      "text/plain": [
       "1000000"
      ]
     },
     "execution_count": 26,
     "metadata": {},
     "output_type": "execute_result"
    }
   ],
   "source": [
    "test_nparray.shape[0]"
   ]
  },
  {
   "cell_type": "code",
   "execution_count": 27,
   "id": "8497f4b4",
   "metadata": {},
   "outputs": [
    {
     "data": {
      "text/plain": [
       "(84,)"
      ]
     },
     "execution_count": 27,
     "metadata": {},
     "output_type": "execute_result"
    }
   ],
   "source": [
    "np.where(test_nparray == element)[0].shape"
   ]
  },
  {
   "cell_type": "code",
   "execution_count": 28,
   "id": "5c0c1f77",
   "metadata": {},
   "outputs": [
    {
     "data": {
      "text/plain": [
       "84"
      ]
     },
     "execution_count": 28,
     "metadata": {},
     "output_type": "execute_result"
    }
   ],
   "source": [
    "len(np.where(test_nparray == element)[0])"
   ]
  },
  {
   "cell_type": "markdown",
   "id": "b1979971",
   "metadata": {},
   "source": [
    "> `np.where` returns a tuple whose first index gives the list of array indices corresponding to the sought element."
   ]
  },
  {
   "cell_type": "markdown",
   "id": "2ad9dc6c",
   "metadata": {},
   "source": [
    "## <font color='blus'>Find an element with an iterator from a `numpy` array"
   ]
  },
  {
   "cell_type": "markdown",
   "id": "de94beb2",
   "metadata": {},
   "source": [
    "> In the next cell, we define an iterator on the array.\n",
    ">\n",
    "> An iterator is an object acting as a cursor, which will point to the different indices of a sequence of values or objects. The pointer traverses the addresses of the elements step by step.\n",
    ">\n",
    "> An iterator is **inexpensive in memory** and is more general purpose than a list.\n",
    ">\n",
    "> The `nd` stem is a contraction of \"N-Dimensionnal\" and emphasizes numpy's ability to handle multi-dimensional objects, such as matrices."
   ]
  },
  {
   "cell_type": "code",
   "execution_count": 29,
   "id": "957f4ad3",
   "metadata": {},
   "outputs": [
    {
     "name": "stdout",
     "output_type": "stream",
     "text": [
      "1239\n"
     ]
    },
    {
     "data": {
      "text/plain": [
       "True"
      ]
     },
     "execution_count": 29,
     "metadata": {},
     "output_type": "execute_result"
    }
   ],
   "source": [
    "print(element)\n",
    "element in test_nparray"
   ]
  },
  {
   "cell_type": "code",
   "execution_count": 30,
   "id": "0512b663",
   "metadata": {},
   "outputs": [
    {
     "data": {
      "text/plain": [
       "True"
      ]
     },
     "execution_count": 30,
     "metadata": {},
     "output_type": "execute_result"
    }
   ],
   "source": [
    "iterator = np.nditer(test_nparray,flags=['f_index'])\n",
    "iterator.iternext()"
   ]
  },
  {
   "cell_type": "code",
   "execution_count": 31,
   "id": "ac0e811c",
   "metadata": {},
   "outputs": [
    {
     "name": "stdout",
     "output_type": "stream",
     "text": [
      "CPU times: total: 1.25 s\n",
      "Wall time: 1.25 s\n"
     ]
    }
   ],
   "source": [
    "%%time\n",
    "list_index = list()\n",
    "\n",
    "iterator = np.nditer(test_nparray,flags=['f_index'])\n",
    "while iterator.iternext():\n",
    "    if iterator[0] == element:\n",
    "        list_index.append(iterator.index)\n"
   ]
  },
  {
   "cell_type": "code",
   "execution_count": 32,
   "id": "799be21e",
   "metadata": {},
   "outputs": [
    {
     "data": {
      "text/plain": [
       "(84, 84)"
      ]
     },
     "execution_count": 32,
     "metadata": {},
     "output_type": "execute_result"
    }
   ],
   "source": [
    "len(list_index), len(np.where(test_nparray ==element)[0])"
   ]
  },
  {
   "cell_type": "code",
   "execution_count": 33,
   "id": "7d1f9215",
   "metadata": {},
   "outputs": [
    {
     "data": {
      "text/plain": [
       "False"
      ]
     },
     "execution_count": 33,
     "metadata": {},
     "output_type": "execute_result"
    }
   ],
   "source": [
    "iterator.iternext()"
   ]
  },
  {
   "cell_type": "markdown",
   "id": "9ebc37c2",
   "metadata": {},
   "source": [
    "## <font color='blus'>Dichotomous search in a `numpy` array"
   ]
  },
  {
   "attachments": {
    "Richard_Ernest_Bellman.jpg": {
     "image/jpeg": "[encoded data removed]"
    }
   },
   "cell_type": "markdown",
   "id": "f78aca2a",
   "metadata": {},
   "source": [
    "> ![Richard_Ernest_Bellman.jpg](attachment:Richard_Ernest_Bellman.jpg)"
   ]
  },
  {
   "cell_type": "markdown",
   "id": "68bcc9a6",
   "metadata": {},
   "source": [
    "> Here-under is a **dynamic programming** representation of the bubble sort algorithm\n",
    ">\n",
    "> (wikipedia)\n",
    ">> Dynamic programming is both a mathematical optimization method and a computer programming method. The method was developed by **Richard Bellman** (applied mathematician) in the 1950s and has found applications in numerous fields, from aerospace engineering to economics."
   ]
  },
  {
   "attachments": {
    "dichotomic.png": {
     "image/png": "[encoded data removed]"
    }
   },
   "cell_type": "markdown",
   "id": "8cbfcb6c",
   "metadata": {},
   "source": [
    "![dichotomic.png](attachment:dichotomic.png)"
   ]
  },
  {
   "cell_type": "markdown",
   "id": "92e58bf9",
   "metadata": {},
   "source": [
    "> Also named binary search. \n",
    ">\n",
    "> Principle of research:\n",
    "> - 1. the list is ordered\n",
    "> - As long as the element was not found:\n",
    "     > - 2. the list is divided into two equal parts.\n",
    "     > - 3. we test if the extreme value of the 1st list corresponds to the searched value\n",
    "     > - 4. If the test is positive --> STOP\n",
    "     > - 5. If the test is negative, we seek in which of the two parts of the list the element is found\n",
    "     > - 6. start again from 2.\n",
    ">"
   ]
  },
  {
   "cell_type": "code",
   "execution_count": 35,
   "id": "94620ca0",
   "metadata": {},
   "outputs": [],
   "source": [
    "def dichotomous_search(liste, valeur):\n",
    "    first = 0\n",
    "    last  = len(liste)-1\n",
    "    index = -1\n",
    "    count = 0\n",
    "    while (first <= last) and (index == -1):\n",
    "        count += 1\n",
    "        mid = (first+last)//2 # La liste est découpée en deux\n",
    "        if liste[mid] == valeur: # On regarde si la valeur extrème de la liste correspond a la valeur, STOP\n",
    "            index = mid\n",
    "        else:\n",
    "            # Search for array in which element stands in.\n",
    "            if valeur < liste[mid]:\n",
    "                last = mid -1\n",
    "            else:\n",
    "                first = mid +1\n",
    "    #print(\"nombre d'itérations:\",count)\n",
    "    return index"
   ]
  },
  {
   "cell_type": "markdown",
   "id": "e6a8276d",
   "metadata": {},
   "source": [
    "> This search requires ordering the elements of an array. The ordering algorithm needs to be taken into account in order to assess the time consumed by algorithm."
   ]
  },
  {
   "cell_type": "code",
   "execution_count": 36,
   "id": "eaa8a2c6",
   "metadata": {},
   "outputs": [
    {
     "data": {
      "text/plain": [
       "1000000"
      ]
     },
     "execution_count": 36,
     "metadata": {},
     "output_type": "execute_result"
    }
   ],
   "source": [
    "len(liste_test)"
   ]
  },
  {
   "cell_type": "code",
   "execution_count": 37,
   "id": "d2d1f45d",
   "metadata": {},
   "outputs": [
    {
     "name": "stdout",
     "output_type": "stream",
     "text": [
      "CPU times: total: 266 ms\n",
      "Wall time: 271 ms\n"
     ]
    }
   ],
   "source": [
    "%time liste_ordonnee = sorted(liste_test)"
   ]
  },
  {
   "cell_type": "code",
   "execution_count": 38,
   "id": "bd63e44c",
   "metadata": {},
   "outputs": [
    {
     "data": {
      "text/plain": [
       "[1, 1, 1, 1, 1, 1, 1, 1, 1, 1]"
      ]
     },
     "execution_count": 38,
     "metadata": {},
     "output_type": "execute_result"
    }
   ],
   "source": [
    "liste_ordonnee[:10]"
   ]
  },
  {
   "cell_type": "code",
   "execution_count": 39,
   "id": "0b4fdc6f",
   "metadata": {},
   "outputs": [
    {
     "name": "stdout",
     "output_type": "stream",
     "text": [
      "CPU times: total: 0 ns\n",
      "Wall time: 0 ns\n"
     ]
    },
    {
     "data": {
      "text/plain": [
       "124327"
      ]
     },
     "execution_count": 39,
     "metadata": {},
     "output_type": "execute_result"
    }
   ],
   "source": [
    "%time dichotomous_search(liste_ordonnee, element)"
   ]
  },
  {
   "cell_type": "markdown",
   "id": "abcb480f",
   "metadata": {},
   "source": [
    "> While taking into account all involved algorithms"
   ]
  },
  {
   "cell_type": "code",
   "execution_count": 40,
   "id": "69245c62",
   "metadata": {},
   "outputs": [
    {
     "name": "stdout",
     "output_type": "stream",
     "text": [
      "CPU times: total: 281 ms\n",
      "Wall time: 275 ms\n"
     ]
    },
    {
     "data": {
      "text/plain": [
       "124327"
      ]
     },
     "execution_count": 40,
     "metadata": {},
     "output_type": "execute_result"
    }
   ],
   "source": [
    "%time dichotomous_search(sorted(liste_test),element)"
   ]
  },
  {
   "cell_type": "markdown",
   "id": "46f0434d",
   "metadata": {},
   "source": [
    "## <font color='blus'>Representation of the complexity of an algorithm"
   ]
  },
  {
   "cell_type": "markdown",
   "id": "0b304454",
   "metadata": {},
   "source": [
    "We can carry out an experimental study of the complexity of a search algorithm in a list, by varying the size of the lists analyzed and calculating the average CPU calculation time and by graphically representing this calculation time as a function of the size of the lists analyzed."
   ]
  },
  {
   "cell_type": "markdown",
   "id": "a848122e",
   "metadata": {},
   "source": [
    "### <font color='blus'>Implementation of the measure"
   ]
  },
  {
   "cell_type": "code",
   "execution_count": 42,
   "id": "fc50cd85",
   "metadata": {},
   "outputs": [
    {
     "data": {
      "text/plain": [
       "'dichotomous_search(liste_ordonnee[:1000],500)'"
      ]
     },
     "execution_count": 42,
     "metadata": {},
     "output_type": "execute_result"
    }
   ],
   "source": [
    "M = 1000\n",
    "ELT = 500\n",
    "\"dichotomous_search(liste_ordonnee[:{}],{})\".format(M, ELT)"
   ]
  },
  {
   "cell_type": "code",
   "execution_count": 43,
   "id": "066500e7",
   "metadata": {},
   "outputs": [
    {
     "data": {
      "text/plain": [
       "0.0008173999999598891"
      ]
     },
     "execution_count": 43,
     "metadata": {},
     "output_type": "execute_result"
    }
   ],
   "source": [
    "M   = 1000\n",
    "ELT = 500\n",
    "N   = 100\n",
    "# The statement that will be executed for the measurement\n",
    "statement = \"dichotomous_search(liste_ordonnee[:{}],{})\".format(M, ELT)\n",
    "\n",
    "# import of the functions and data necessary for the execution of the instruction.\n",
    "# Note that __main__ instructs Python interpreter that the notebook is the entry point.\n",
    "setup = \"from __main__ import dichotomous_search, liste_ordonnee\"\n",
    "\n",
    "# Instantiating the Timer Object (see OOP session)\n",
    "oTimer = Timer(statement, setup)\n",
    "\n",
    "# Measurement of the elapsed time for the instruction executed N times having the an average for each data size.\n",
    "oTimer.timeit(number=N)"
   ]
  },
  {
   "cell_type": "markdown",
   "id": "ec44ae40",
   "metadata": {},
   "source": [
    "### <font color='blus'>Measuring the complexity of the `dichotomous search` algorithm"
   ]
  },
  {
   "cell_type": "markdown",
   "id": "b2c56cd1",
   "metadata": {},
   "source": [
    "> We are going to repeat the measure implemented previously on a list of increasing size.\n",
    ">\n",
    "> We will obtain a representation of time according to the size of the data, $t=f(size)$."
   ]
  },
  {
   "cell_type": "code",
   "execution_count": 44,
   "id": "852e82f6",
   "metadata": {},
   "outputs": [
    {
     "name": "stdout",
     "output_type": "stream",
     "text": [
      "CPU times: total: 1min 2s\n",
      "Wall time: 1min 3s\n"
     ]
    }
   ],
   "source": [
    "%%time\n",
    "list_computation_time = []\n",
    "elt = 500\n",
    "N = 5\n",
    "for m in range(1000):\n",
    "    M = 1000*(m+1)# The size of the array ranges from 1OOO to 1000001\n",
    "    t = Timer('''dichotomous_search(liste_ordonnee[:{}],{})'''.format(M, elt),\n",
    "              \"from __main__ import dichotomous_search, liste_ordonnee\")\n",
    "    list_computation_time.append(t.timeit(number=N))# N repetitions of the algorithm for each size of the array."
   ]
  },
  {
   "cell_type": "code",
   "execution_count": 45,
   "id": "152149a6",
   "metadata": {},
   "outputs": [
    {
     "data": {
      "image/png": "[encoded data removed]",
      "text/plain": [
       "<Figure size 576x432 with 1 Axes>"
      ]
     },
     "metadata": {
      "needs_background": "light"
     },
     "output_type": "display_data"
    }
   ],
   "source": [
    "plt.figure(figsize=(8,6))\n",
    "list_x = range(1000)\n",
    "list_y = list_computation_time\n",
    "plt.plot(list_x, list_y);"
   ]
  },
  {
   "cell_type": "markdown",
   "id": "24982301",
   "metadata": {},
   "source": [
    "> The graph can be approximated as a straight line; the algorithm is said to have linear complexity. The computation time linearly depends on the size of the data.\n",
    ">\n",
    "> This would not be the case for an algorithm with a double loop, for example. The dependency would be like the power of two of the data size."
   ]
  },
  {
   "cell_type": "markdown",
   "id": "76d91bb1",
   "metadata": {},
   "source": [
    "## <font color='blus'>Sorting algorithms"
   ]
  },
  {
   "cell_type": "markdown",
   "id": "6acef15f",
   "metadata": {},
   "source": [
    "### <font color='blus'>Sorting algorithms from `numpy`"
   ]
  },
  {
   "cell_type": "markdown",
   "id": "f99bb3a4",
   "metadata": {},
   "source": [
    "Sort of a list with numpy:"
   ]
  },
  {
   "cell_type": "markdown",
   "id": "1a7f074b",
   "metadata": {},
   "source": [
    "`quicksort`: quick sort (default `kind = 'quicksort'`)\n",
    "\n",
    "`heapsort`: sort (by comparison) by heap\n",
    "\n",
    "`mergesort`: merge sort\n",
    "\n",
    "`timsort`: hybrid sort derived from merge sort and insertion sort"
   ]
  },
  {
   "cell_type": "code",
   "execution_count": 46,
   "id": "cac37f25",
   "metadata": {},
   "outputs": [
    {
     "data": {
      "text/plain": [
       "1000000"
      ]
     },
     "execution_count": 46,
     "metadata": {},
     "output_type": "execute_result"
    }
   ],
   "source": [
    "len(test_nparray)"
   ]
  },
  {
   "cell_type": "code",
   "execution_count": 47,
   "id": "9b538b4e",
   "metadata": {},
   "outputs": [
    {
     "name": "stdout",
     "output_type": "stream",
     "text": [
      "heapsort\n",
      "CPU times: total: 141 ms\n",
      "Wall time: 151 ms\n",
      "mergesort\n",
      "CPU times: total: 62.5 ms\n",
      "Wall time: 68.7 ms\n",
      "stable\n",
      "CPU times: total: 62.5 ms\n",
      "Wall time: 71.8 ms\n",
      "quicksort\n",
      "CPU times: total: 62.5 ms\n",
      "Wall time: 67.3 ms\n"
     ]
    }
   ],
   "source": [
    "for kind in {'quicksort', 'mergesort', 'heapsort', 'stable'}:# NB : ths is a set\n",
    "    print(kind)\n",
    "    %time np.sort(test_nparray, kind=kind)"
   ]
  },
  {
   "cell_type": "code",
   "execution_count": 48,
   "id": "0a7bf943",
   "metadata": {},
   "outputs": [],
   "source": [
    "import random as rd"
   ]
  },
  {
   "cell_type": "code",
   "execution_count": 49,
   "id": "4b197486",
   "metadata": {
    "scrolled": true
   },
   "outputs": [
    {
     "name": "stdout",
     "output_type": "stream",
     "text": [
      "10000 <class 'list'>\n"
     ]
    }
   ],
   "source": [
    "LIST_SIZE = 10000\n",
    "list_ = [i for i in range(0,LIST_SIZE)]\n",
    "# The list is shuffled for the sort to be valid\n",
    "liste_a_trier = rd.shuffle(list_)\n",
    "liste_a_trier = list_\n",
    "print(len(liste_a_trier), type(liste_a_trier))"
   ]
  },
  {
   "cell_type": "markdown",
   "id": "c6ffe779",
   "metadata": {},
   "source": [
    "### <font color='blus'>Bubble sort"
   ]
  },
  {
   "attachments": {
    "sort_bulle.png": {
     "image/png": "[encoded data removed]"
    }
   },
   "cell_type": "markdown",
   "id": "fe40a953",
   "metadata": {},
   "source": [
    "![sort_bulle.png](attachment:sort_bulle.png)"
   ]
  },
  {
   "cell_type": "markdown",
   "id": "1dc7028c",
   "metadata": {},
   "source": [
    "> Bubble sorting consists of traversing the table, for example from left to right, comparing the elements side by side and swapping them if they are not in the correct order.\n",
    ">\n",
    "> During a pass of the painting, the largest elements rise gradually to the right like bubbles towards the surface."
   ]
  },
  {
   "cell_type": "code",
   "execution_count": 50,
   "id": "5849adb2",
   "metadata": {},
   "outputs": [
    {
     "data": {
      "text/plain": [
       "10000"
      ]
     },
     "execution_count": 50,
     "metadata": {},
     "output_type": "execute_result"
    }
   ],
   "source": [
    "list_ = [i for i in range(0,LIST_SIZE)]\n",
    "liste_a_trier = rd.shuffle(list_)\n",
    "liste_a_trier = list_\n",
    "\n",
    "len(liste_a_trier)"
   ]
  },
  {
   "cell_type": "code",
   "execution_count": 51,
   "id": "4e00e3bd",
   "metadata": {},
   "outputs": [
    {
     "data": {
      "text/plain": [
       "4247"
      ]
     },
     "execution_count": 51,
     "metadata": {},
     "output_type": "execute_result"
    }
   ],
   "source": [
    "liste_a_trier[:None] # Liste entière\n",
    "liste_a_trier[-2-1]  # Element en 3eme position a partir de la fin de la liste"
   ]
  },
  {
   "cell_type": "code",
   "execution_count": 52,
   "id": "31a174c1",
   "metadata": {},
   "outputs": [
    {
     "data": {
      "text/plain": [
       "9999"
      ]
     },
     "execution_count": 52,
     "metadata": {},
     "output_type": "execute_result"
    }
   ],
   "source": [
    "M = None\n",
    "len(liste_a_trier[:-1])"
   ]
  },
  {
   "cell_type": "markdown",
   "id": "9425ed7a",
   "metadata": {},
   "source": [
    "> L'implementation est une forme de tri par selection en partant de la fin de la liste.\n",
    ">\n",
    "> Partir de la fin impose de rechercher la valeur max de la liste à positioner en fin de liste."
   ]
  },
  {
   "cell_type": "code",
   "execution_count": 53,
   "id": "3ddb45ac",
   "metadata": {},
   "outputs": [],
   "source": [
    "def bubble_sort(liste):\n",
    "    for i,_ in enumerate(liste):\n",
    "        # We consider all the elements of the list except the last ones\n",
    "        # If i is 0, we take the whole list.\n",
    "        # We get the max value of this list.\n",
    "        val_max = max(liste[:(-i if i else None)]) # NB: liste[:0] == [] vs liste[:None] == liste\n",
    "        \n",
    "        # We get the index of the max value of the truncated list\n",
    "        ind_val_max = liste.index(val_max)\n",
    "        \n",
    "        # The previous -i value and the max value are swapped; the max remote value therefore in the truncated list        liste[-i-1],liste[ind_val_max] = liste[ind_val_max],liste[-i-1]\n",
    "    return liste"
   ]
  },
  {
   "cell_type": "code",
   "execution_count": 54,
   "id": "b3d37840",
   "metadata": {},
   "outputs": [
    {
     "name": "stdout",
     "output_type": "stream",
     "text": [
      "CPU times: total: 2.22 s\n",
      "Wall time: 2.34 s\n"
     ]
    }
   ],
   "source": [
    "%time liste_triee = bubble_sort(liste_a_trier)"
   ]
  },
  {
   "cell_type": "markdown",
   "id": "bb190834",
   "metadata": {},
   "source": [
    "### <font color='blus'>Insertion sort"
   ]
  },
  {
   "cell_type": "markdown",
   "id": "010bf70a",
   "metadata": {},
   "source": [
    "![alt text](http://upload.wikimedia.org/wikipedia/commons/0/0f/Insertion-sort-example-300px.gif)"
   ]
  },
  {
   "cell_type": "code",
   "execution_count": 55,
   "id": "b5d5f32f",
   "metadata": {},
   "outputs": [],
   "source": [
    "def insertion_sort1(data):\n",
    "    for r in range(1, len(data)):\n",
    "        for l in range(r):\n",
    "            if data[r] < data[l]:\n",
    "                temp = data[r]\n",
    "                data[l+1:r+1] = data[l:r]\n",
    "                data[l] = temp\n",
    "    return data"
   ]
  },
  {
   "cell_type": "code",
   "execution_count": 56,
   "id": "abe35399",
   "metadata": {},
   "outputs": [
    {
     "name": "stdout",
     "output_type": "stream",
     "text": [
      "CPU times: total: 3.72 s\n",
      "Wall time: 3.76 s\n"
     ]
    }
   ],
   "source": [
    "%time liste_triee = insertion_sort1(liste_a_trier)"
   ]
  },
  {
   "cell_type": "markdown",
   "id": "560a58ac",
   "metadata": {},
   "source": [
    "#### <font color='blus'>Some tricks to know"
   ]
  },
  {
   "cell_type": "code",
   "execution_count": 57,
   "id": "8b18e4d5",
   "metadata": {},
   "outputs": [
    {
     "name": "stdout",
     "output_type": "stream",
     "text": [
      "[1 2 4 5 6]\n",
      "[ True  True False False False]\n"
     ]
    }
   ],
   "source": [
    "np_ar1 = np.array([1,2,4,5,6])\n",
    "print(np_ar1)\n",
    "np_ar_bool = np_ar1 <= 3\n",
    "print(np_ar_bool)"
   ]
  },
  {
   "cell_type": "markdown",
   "id": "aaad0d89",
   "metadata": {},
   "source": [
    "> `argmin` will return the index (the list argument) corresponding to the smallest value.\n",
    ">\n",
    "> We recover the index of the smallest value <=3, it is the 1st index to False."
   ]
  },
  {
   "cell_type": "code",
   "execution_count": 58,
   "id": "016d69ec",
   "metadata": {},
   "outputs": [
    {
     "data": {
      "text/plain": [
       "2"
      ]
     },
     "execution_count": 58,
     "metadata": {},
     "output_type": "execute_result"
    }
   ],
   "source": [
    "(np_ar1 <= 3).argmin()"
   ]
  },
  {
   "cell_type": "code",
   "execution_count": 59,
   "id": "17fa4671",
   "metadata": {},
   "outputs": [
    {
     "data": {
      "text/plain": [
       "2"
      ]
     },
     "execution_count": 59,
     "metadata": {},
     "output_type": "execute_result"
    }
   ],
   "source": [
    "ind_insert= (np_ar1 <= 3).argmin()\n",
    "ind_insert"
   ]
  },
  {
   "cell_type": "markdown",
   "id": "b5ebeba6",
   "metadata": {},
   "source": [
    "> Array to be sorted is splited into three parts and is rebuilt using concatenation from numpy `np.concatenate` \n",
    ">\n",
    "> Array partitions are : \n",
    ">> - The `True` values part that satisfies condition array <= value_to_be_inserted\n",
    ">> - The `False` values part that matches with condition array > value_to_be_inserted\n",
    ">> - The part composed of a single element, value_to_be_inserted (3 here below) matching with element where split takes place."
   ]
  },
  {
   "cell_type": "code",
   "execution_count": 60,
   "id": "e456e25d",
   "metadata": {},
   "outputs": [
    {
     "data": {
      "text/plain": [
       "array([1, 2, 4, 5, 6])"
      ]
     },
     "execution_count": 60,
     "metadata": {},
     "output_type": "execute_result"
    }
   ],
   "source": [
    "# Numpy arrays concatenation\n",
    "np.concatenate( (np_ar1[:ind_insert],np_ar1[ind_insert:ind_insert],np_ar1[ind_insert:]) )"
   ]
  },
  {
   "cell_type": "markdown",
   "id": "d1605eb5",
   "metadata": {},
   "source": [
    "> NB : concatenation takes place for arrays. \n",
    "> - `np_ar1[ind_insert]` is a value\n",
    "> - `np_ar1[ind_insert:ind_insert]` is a numpy array"
   ]
  },
  {
   "cell_type": "code",
   "execution_count": 61,
   "id": "a7b969ee",
   "metadata": {},
   "outputs": [
    {
     "data": {
      "text/plain": [
       "0"
      ]
     },
     "execution_count": 61,
     "metadata": {},
     "output_type": "execute_result"
    }
   ],
   "source": [
    "# In the example below, the returned value does not matches with a deterministic value in the sense where the value 8\n",
    "# does not exists in the array.\n",
    "(np_ar1 <= 8).argmin() # il faudra traiter ce cas séparément"
   ]
  },
  {
   "cell_type": "markdown",
   "id": "fed733c0",
   "metadata": {},
   "source": [
    "> Building unsorted list that aims to be sorted."
   ]
  },
  {
   "cell_type": "code",
   "execution_count": 62,
   "id": "6dd8dd8d",
   "metadata": {},
   "outputs": [
    {
     "data": {
      "text/plain": [
       "(10000, [5003, 1061, 4500, 3959, 6169, 6395, 3690, 4228, 4818, 7066])"
      ]
     },
     "execution_count": 62,
     "metadata": {},
     "output_type": "execute_result"
    }
   ],
   "source": [
    "list_shuffled = [i for i in range(0,LIST_SIZE)]\n",
    "rd.shuffle(list_shuffled)\n",
    "len(list_shuffled), list_shuffled[23:33]"
   ]
  },
  {
   "cell_type": "code",
   "execution_count": 63,
   "id": "6eecda4e",
   "metadata": {},
   "outputs": [],
   "source": [
    "from typing import List\n",
    "def insertion_sort(list_for_sorting): \n",
    "    # Initialization of the array to be sorted that includes the 1st element of the array\n",
    "    np_sorted = np.array(list_for_sorting[:1])\n",
    "    \n",
    "    for i,elt in enumerate(list_for_sorting[1:]): \n",
    "        j = i+1 # Shift indice because liste[1:] is traversed\n",
    "        if elt >= np_sorted.max():\n",
    "            # Add the greatest element at the end of the list\n",
    "            np_sorted = np.concatenate( (np_sorted[:j],[elt]) )\n",
    "        else:\n",
    "            # Element has to be inserted in the sorted list at the right place\n",
    "            # Search for first smaller element in the sorted list : search for \n",
    "            # the smallest element in the sorted array.\n",
    "            index_of_smallest_elt = (np_sorted[:j] <= elt).argmin()\n",
    "            \n",
    "            # Add the element just after values limited with this smallest element\n",
    "            np_sorted = np.concatenate( (np_sorted[:index_of_smallest_elt], [elt], np_sorted[index_of_smallest_elt:j]) )\n",
    "    return np_sorted"
   ]
  },
  {
   "cell_type": "code",
   "execution_count": 64,
   "id": "7f8358c8",
   "metadata": {
    "scrolled": false
   },
   "outputs": [
    {
     "name": "stdout",
     "output_type": "stream",
     "text": [
      "CPU times: total: 234 ms\n",
      "Wall time: 226 ms\n"
     ]
    }
   ],
   "source": [
    "%time liste_sorted = insertion_sort(list_shuffled)"
   ]
  },
  {
   "cell_type": "code",
   "execution_count": 65,
   "id": "b6e33d5c",
   "metadata": {},
   "outputs": [
    {
     "data": {
      "text/plain": [
       "array([9990, 9991, 9992, 9993, 9994, 9995, 9996, 9997, 9998, 9999])"
      ]
     },
     "execution_count": 65,
     "metadata": {},
     "output_type": "execute_result"
    }
   ],
   "source": [
    "liste_sorted[-10:]"
   ]
  },
  {
   "cell_type": "markdown",
   "id": "f7998722",
   "metadata": {},
   "source": [
    "> Numpy's `max` method makes the performance difference with Python's standard `max` method."
   ]
  },
  {
   "cell_type": "markdown",
   "id": "3ab41e5d",
   "metadata": {},
   "source": [
    "### <font color='blus'>Comparative study of complexity in time"
   ]
  },
  {
   "cell_type": "markdown",
   "id": "c2286b4a",
   "metadata": {},
   "source": [
    "> The device implemented is identical to that seen previously for `Time measurement of the complexity of an algorithm`\n",
    ">\n",
    "> The device will be applied to three algorithms, the measurements will be recorded for each of them and compared on a graph."
   ]
  },
  {
   "cell_type": "code",
   "execution_count": 66,
   "id": "8fecd7a0",
   "metadata": {},
   "outputs": [],
   "source": [
    "LIST_SIZE = 1000"
   ]
  },
  {
   "cell_type": "code",
   "execution_count": 67,
   "id": "d1e62e07",
   "metadata": {},
   "outputs": [],
   "source": [
    "n = int(1e3)\n",
    "liste_1 = [i for i in range(0,LIST_SIZE)]\n",
    "rd.shuffle(liste_1)\n",
    "liste_2 = liste_1.copy()\n",
    "liste_3 = liste_1.copy()"
   ]
  },
  {
   "cell_type": "code",
   "execution_count": 68,
   "id": "ef7b0f13",
   "metadata": {},
   "outputs": [],
   "source": [
    "time_insertion = []\n",
    "for m in range(100):\n",
    "    M = 10*(m+1)\n",
    "    t = Timer('''insertion_sort(liste_2[:{}])'''.format(M),\n",
    "              \"from __main__ import insertion_sort, liste_2\")\n",
    "    time_insertion.append(t.timeit(number=10))"
   ]
  },
  {
   "cell_type": "code",
   "execution_count": 69,
   "id": "262b2485",
   "metadata": {},
   "outputs": [],
   "source": [
    "time_insertion1 = []\n",
    "for m in range(100):\n",
    "    M = 10*(m+1)\n",
    "    t = Timer('''insertion_sort1(liste_2[:{}])'''.format(M),\n",
    "              \"from __main__ import insertion_sort1, liste_2\")\n",
    "    time_insertion1.append(t.timeit(number=10))"
   ]
  },
  {
   "cell_type": "code",
   "execution_count": 70,
   "id": "9c1f0533",
   "metadata": {},
   "outputs": [],
   "source": [
    "time_bubble = []\n",
    "for m in range(100):\n",
    "    M = 10*(m+1)\n",
    "    t = Timer('''bubble_sort(liste_3[:{}])'''.format(M),\n",
    "              \"from __main__ import bubble_sort, liste_3\")\n",
    "    time_bubble.append(t.timeit(number=10))"
   ]
  },
  {
   "cell_type": "code",
   "execution_count": 71,
   "id": "8bbfe86c",
   "metadata": {
    "scrolled": true
   },
   "outputs": [
    {
     "data": {
      "image/png": "[encoded data removed]",
      "text/plain": [
       "<Figure size 576x432 with 1 Axes>"
      ]
     },
     "metadata": {
      "needs_background": "light"
     },
     "output_type": "display_data"
    }
   ],
   "source": [
    "%matplotlib inline\n",
    "x = range(100)\n",
    "plt.figure(figsize=(8,6))\n",
    "plt.plot(x, time_bubble, 'g', label='Bubble sort')\n",
    "plt.plot(x, time_insertion, 'r', label='Insertion sort')\n",
    "plt.plot(x, time_insertion1, 'b', label='Insertion sort #1')\n",
    "plt.legend();"
   ]
  },
  {
   "cell_type": "markdown",
   "id": "e3ddb674",
   "metadata": {},
   "source": [
    "> insertion_sort1 algorithm has $O(t^2)$ time-complexity. This is due to double loop implementation."
   ]
  },
  {
   "cell_type": "code",
   "execution_count": 72,
   "id": "cefc357e",
   "metadata": {
    "scrolled": true
   },
   "outputs": [
    {
     "data": {
      "image/png": "[encoded data removed]",
      "text/plain": [
       "<Figure size 576x432 with 1 Axes>"
      ]
     },
     "metadata": {
      "needs_background": "light"
     },
     "output_type": "display_data"
    }
   ],
   "source": [
    "%matplotlib inline\n",
    "x = range(100)\n",
    "plt.figure(figsize=(8,6))\n",
    "plt.plot(x, time_bubble, 'g', label='Bubble sort')\n",
    "plt.plot(x, time_insertion, 'r', label='Insertion sort')\n",
    "plt.legend();"
   ]
  },
  {
   "cell_type": "code",
   "execution_count": 114,
   "id": "68f17ad1",
   "metadata": {},
   "outputs": [],
   "source": [
    "n = int(1e3)\n",
    "liste_1 = [i for i in range(0,LIST_SIZE)]\n",
    "rd.shuffle(liste_1)\n",
    "liste_2 = liste_1.copy()\n",
    "liste_3 = liste_1.copy()\n",
    "liste_4 = liste_1.copy()"
   ]
  },
  {
   "cell_type": "code",
   "execution_count": 115,
   "id": "7ac7b90c",
   "metadata": {},
   "outputs": [],
   "source": [
    "time_insertion = []\n",
    "for m in range(1000):\n",
    "    M = 1*(m+1)\n",
    "    t = Timer('''insertion_sort(liste_2[:{}])'''.format(M),\n",
    "              \"from __main__ import insertion_sort, liste_2\")\n",
    "    time_insertion.append(t.timeit(number=10))"
   ]
  },
  {
   "cell_type": "code",
   "execution_count": 116,
   "id": "b3006663",
   "metadata": {},
   "outputs": [],
   "source": [
    "time_bubble = []\n",
    "for m in range(1000):\n",
    "    M = 1*(m+1)\n",
    "    t = Timer('''bubble_sort(liste_3[:{}])'''.format(M),\n",
    "              \"from __main__ import bubble_sort, liste_3\")\n",
    "    time_bubble.append(t.timeit(number=10))"
   ]
  },
  {
   "cell_type": "code",
   "execution_count": 76,
   "id": "a4870851",
   "metadata": {
    "scrolled": true
   },
   "outputs": [
    {
     "data": {
      "image/png": "[encoded data removed]",
      "text/plain": [
       "<Figure size 432x288 with 1 Axes>"
      ]
     },
     "metadata": {
      "needs_background": "light"
     },
     "output_type": "display_data"
    }
   ],
   "source": [
    "x = range(1000)\n",
    "plt.figure(figsize=(8,6))\n",
    "%matplotlib inline\n",
    "plt.plot(x, time_bubble, 'g', label='Bubble sort')\n",
    "plt.plot(x, time_insertion, 'r', label='Insertion sort')\n",
    "plt.legend();"
   ]
  },
  {
   "cell_type": "markdown",
   "id": "75107c01",
   "metadata": {},
   "source": [
    "# <font color='blus'>Exercises"
   ]
  },
  {
   "cell_type": "markdown",
   "id": "bffef81f",
   "metadata": {},
   "source": [
    "## <font color='blus'>Exercise 1"
   ]
  },
  {
   "cell_type": "markdown",
   "id": "85e7f153",
   "metadata": {},
   "source": [
    "> On the graph above, how would you qualify (linearity,...) each one of the time algoritms complexity ?"
   ]
  },
  {
   "cell_type": "raw",
   "id": "05538518",
   "metadata": {},
   "source": [
    "insertion sort # 1 -> y = x ^ 2 ( non- linear )\n",
    "bubble sort -> linear\n",
    "insertion sort -> no-linear curve"
   ]
  },
  {
   "cell_type": "code",
   "execution_count": null,
   "id": "b9849db1",
   "metadata": {},
   "outputs": [],
   "source": []
  },
  {
   "cell_type": "markdown",
   "id": "6816ed7b",
   "metadata": {},
   "source": [
    "## <font color='blus'>Exercise 2"
   ]
  },
  {
   "cell_type": "markdown",
   "id": "781c2300",
   "metadata": {},
   "source": [
    "### <font color='blus'>Sort by selection on a list"
   ]
  },
  {
   "cell_type": "markdown",
   "id": "35737807",
   "metadata": {},
   "source": [
    "> The principle consists of selecting the smallest value from the list and exchanging this value with the 1st value from the list, redoing this operation with the private list of the 1st value.\n",
    ">\n",
    "> - The list does not need to be ordered. \n",
    "> - We also note the absence of a test which bodes well for good performance.\n",
    "> - This algorithm uses the `min` method from list that implements an optimized algorithm.\n",
    ">\n",
    ">Algorithm\n",
    "> - 1 Traverse all `i` indices in the list\n",
    ">> - 1.1 Finding the minimum value of `list[i:]`, list starting at index `i`\n",
    ">> - 1.2 The `list[i]` value are swapped with the minimum value\n",
    ">> - 1.3 Go to 1.1"
   ]
  },
  {
   "cell_type": "code",
   "execution_count": null,
   "id": "57a202ae",
   "metadata": {},
   "outputs": [],
   "source": [
    "from typing import List\n",
    "def insertion_sort(list_for_sorting): \n",
    "    # Initialization of the array to be sorted that includes the 1st element of the array\n",
    "    np_sorted = np.array(list_for_sorting[:1])\n",
    "    \n",
    "    for i,elt in enumerate(list_for_sorting[1:]): \n",
    "        j = i+1 # Shift indice because liste[1:] is traversed\n",
    "        if elt >= np_sorted.max():\n",
    "            # Add the greatest element at the end of the list\n",
    "            np_sorted = np.concatenate( (np_sorted[:j],[elt]) )\n",
    "        else:\n",
    "            # Element has to be inserted in the sorted list at the right place\n",
    "            # Search for first smaller element in the sorted list : search for \n",
    "            # the smallest element in the sorted array.\n",
    "            index_of_smallest_elt = (np_sorted[:j] <= elt).argmin()\n",
    "            \n",
    "            # Add the element just after values limited with this smallest element\n",
    "            np_sorted = np.concatenate( (np_sorted[:index_of_smallest_elt], [elt], np_sorted[index_of_smallest_elt:j]) )\n",
    "    return np_sorted"
   ]
  },
  {
   "cell_type": "code",
   "execution_count": 93,
   "id": "95f3331d",
   "metadata": {},
   "outputs": [
    {
     "name": "stdout",
     "output_type": "stream",
     "text": [
      "CPU times: total: 812 ms\n",
      "Wall time: 811 ms\n"
     ]
    },
    {
     "data": {
      "text/plain": [
       "105"
      ]
     },
     "execution_count": 93,
     "metadata": {},
     "output_type": "execute_result"
    }
   ],
   "source": [
    "import typing\n",
    "from typing import List\n",
    "\n",
    "size = 10**4\n",
    "list_1 = [i for i in range(0,size)]\n",
    "rd.shuffle(list_1)\n",
    "list_train = list_1.copy()\n",
    "\n",
    "def selection_sort(list_for_sorting:list) -> list:\n",
    "    #Initialization\n",
    "    list_sorted = [len(list_for_sorting)]\n",
    "    tmp = min(list_for_sorting)\n",
    "    list_sorted[0] = tmp\n",
    "    list_for_sorting.remove(tmp)\n",
    "    i= 1\n",
    "    for i in enumerate(list_for_sorting):\n",
    "        tmp = min(list_for_sorting)\n",
    "        list_sorted.append(tmp)\n",
    "        list_for_sorting.remove(tmp)\n",
    "    return list_sorted\n",
    "\n",
    "%time list_result = selection_sort(list_train)\n",
    "\n",
    "list_result[105]\n",
    "\n",
    "\n"
   ]
  },
  {
   "cell_type": "code",
   "execution_count": 95,
   "id": "d498b1e3",
   "metadata": {},
   "outputs": [
    {
     "name": "stdout",
     "output_type": "stream",
     "text": [
      "1\n"
     ]
    }
   ],
   "source": [
    "list_train\n",
    "print(1)"
   ]
  },
  {
   "cell_type": "code",
   "execution_count": 74,
   "id": "11634bce",
   "metadata": {},
   "outputs": [],
   "source": [
    "time_insertion = []\n",
    "for m in range(1000):\n",
    "    M = 1*(m+1)\n",
    "    t = Timer('''insertion_sort(liste_2[:{}])'''.format(M),\n",
    "              \"from __main__ import insertion_sort, liste_2\")\n",
    "    time_insertion.append(t.timeit(number=10))"
   ]
  },
  {
   "cell_type": "code",
   "execution_count": 110,
   "id": "be1c19f2",
   "metadata": {},
   "outputs": [],
   "source": [
    "time_selection = []\n",
    "for m in range(1000):\n",
    "    M = 1*(m+1)\n",
    "    t = Timer('''selection_sort(liste_4[:{}])'''.format(M),\n",
    "              \"from __main__ import selection_sort, liste_4\")\n",
    "    time_selection.append(t.timeit(number=10))"
   ]
  },
  {
   "cell_type": "code",
   "execution_count": 112,
   "id": "7a3eefe0",
   "metadata": {},
   "outputs": [
    {
     "data": {
      "text/plain": [
       "1000"
      ]
     },
     "execution_count": 112,
     "metadata": {},
     "output_type": "execute_result"
    }
   ],
   "source": [
    "len(time_selection)"
   ]
  },
  {
   "cell_type": "code",
   "execution_count": 76,
   "id": "eb921dbb",
   "metadata": {
    "scrolled": true
   },
   "outputs": [
    {
     "data": {
      "image/png": "[encoded data removed]",
      "text/plain": [
       "<Figure size 432x288 with 1 Axes>"
      ]
     },
     "metadata": {
      "needs_background": "light"
     },
     "output_type": "display_data"
    }
   ],
   "source": [
    "x = range(1000)\n",
    "plt.figure(figsize=(8,6))\n",
    "%matplotlib inline\n",
    "plt.plot(x, time_bubble, 'g', label='Bubble sort')\n",
    "plt.plot(x, time_insertion, 'r', label='Insertion sort')\n",
    "plt.legend();"
   ]
  },
  {
   "cell_type": "code",
   "execution_count": 107,
   "id": "637a632e",
   "metadata": {},
   "outputs": [
    {
     "data": {
      "text/plain": [
       "(1000, 0)"
      ]
     },
     "execution_count": 107,
     "metadata": {},
     "output_type": "execute_result"
    }
   ],
   "source": [
    "len(x),len(time_selection)"
   ]
  },
  {
   "cell_type": "code",
   "execution_count": 117,
   "id": "5059f52b",
   "metadata": {},
   "outputs": [
    {
     "data": {
      "image/png": "[encoded data removed]",
      "text/plain": [
       "<Figure size 432x288 with 1 Axes>"
      ]
     },
     "metadata": {
      "needs_background": "light"
     },
     "output_type": "display_data"
    }
   ],
   "source": [
    "x = range(1000)\n",
    "plt.figure(figsize = (8,6))\n",
    "%matplotlib inline\n",
    "plt.plot(x, time_selection,'b',label = 'Selection sort')\n",
    "plt.plot(x, time_bubble, 'g', label='Bubble sort')\n",
    "plt.plot(x, time_insertion, 'r', label='Insertion sort')\n",
    "plt.legend();"
   ]
  },
  {
   "cell_type": "markdown",
   "id": "363da513",
   "metadata": {},
   "source": [
    "> 2.1 With the **dynamic programming** method, draw the sort algorithm."
   ]
  },
  {
   "cell_type": "markdown",
   "id": "bc65e80e",
   "metadata": {},
   "source": [
    "> 2.2 Write a function that implements such algorithm."
   ]
  },
  {
   "cell_type": "markdown",
   "id": "98bad6f4",
   "metadata": {},
   "source": [
    "> 2.3 Test the function with a random sample range of indices"
   ]
  },
  {
   "cell_type": "markdown",
   "id": "a1330b4f",
   "metadata": {},
   "source": [
    "> 2.4 Evaluate its complexity in time"
   ]
  },
  {
   "cell_type": "markdown",
   "id": "c3ae1c4f",
   "metadata": {},
   "source": [
    "> 2.5 represent the time-complexity sort algorithm on a graph with a sample of 1000 points"
   ]
  },
  {
   "cell_type": "markdown",
   "id": "8e92f02f",
   "metadata": {},
   "source": [
    "> 2.6 Compare on a same graph, this time-complexity with previous algorithms viewed during this session"
   ]
  },
  {
   "cell_type": "markdown",
   "id": "0d728e44",
   "metadata": {},
   "source": [
    "> 2.7 Which one of the algorithms should you select for the sort task?"
   ]
  },
  {
   "cell_type": "code",
   "execution_count": null,
   "id": "b0bf9fe4",
   "metadata": {},
   "outputs": [],
   "source": []
  },
  {
   "cell_type": "code",
   "execution_count": null,
   "id": "a41eba95",
   "metadata": {},
   "outputs": [],
   "source": []
  }
 ],
 "metadata": {
  "kernelspec": {
   "display_name": "Python 3 (ipykernel)",
   "language": "python",
   "name": "python3"
  },
  "language_info": {
   "codemirror_mode": {
    "name": "ipython",
    "version": 3
   },
   "file_extension": ".py",
   "mimetype": "text/x-python",
   "name": "python",
   "nbconvert_exporter": "python",
   "pygments_lexer": "ipython3",
   "version": "3.9.12"
  }
 },
 "nbformat": 4,
 "nbformat_minor": 5
}

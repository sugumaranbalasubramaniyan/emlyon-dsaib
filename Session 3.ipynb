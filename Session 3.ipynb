{
 "cells": [
  {
   "cell_type": "markdown",
   "id": "e5d9b9d2",
   "metadata": {},
   "source": [
    "## Algorithmic complexity"
   ]
  },
  {
   "cell_type": "code",
   "execution_count": 2,
   "id": "775f3504",
   "metadata": {},
   "outputs": [
    {
     "name": "stdout",
     "output_type": "stream",
     "text": [
      "CPU times: user 7 µs, sys: 2 µs, total: 9 µs\n",
      "Wall time: 15.3 µs\n"
     ]
    }
   ],
   "source": [
    "%%time\n",
    "import random as rd"
   ]
  },
  {
   "cell_type": "code",
   "execution_count": 4,
   "id": "d3aaebf5",
   "metadata": {},
   "outputs": [
    {
     "name": "stdout",
     "output_type": "stream",
     "text": [
      "CPU times: user 6 µs, sys: 1 µs, total: 7 µs\n",
      "Wall time: 11 µs\n"
     ]
    }
   ],
   "source": [
    "%%time\n",
    "# creating an integer variable with 1 million\n",
    "n = int(1e6)"
   ]
  },
  {
   "cell_type": "code",
   "execution_count": 7,
   "id": "ed6217dc",
   "metadata": {},
   "outputs": [
    {
     "name": "stdout",
     "output_type": "stream",
     "text": [
      "1000000\n",
      "CPU times: user 1.29 s, sys: 27.8 ms, total: 1.32 s\n",
      "Wall time: 1.32 s\n"
     ]
    }
   ],
   "source": [
    "%%time\n",
    "p = int(1e4)\n",
    "list_test = [rd.randint(0,p)+1 for i in range(n)]\n",
    "print(len(list_test))"
   ]
  },
  {
   "cell_type": "code",
   "execution_count": 8,
   "id": "6457cd60",
   "metadata": {},
   "outputs": [],
   "source": [
    "list_a = [1,2,3,4,5,6,7,65,443,22,13]"
   ]
  },
  {
   "cell_type": "code",
   "execution_count": 10,
   "id": "340c6fba",
   "metadata": {},
   "outputs": [
    {
     "data": {
      "text/plain": [
       "7"
      ]
     },
     "execution_count": 10,
     "metadata": {},
     "output_type": "execute_result"
    }
   ],
   "source": [
    "# To find the index of a value in a list\n",
    "list_a.index(65)"
   ]
  },
  {
   "cell_type": "code",
   "execution_count": 14,
   "id": "1f3a2628",
   "metadata": {},
   "outputs": [
    {
     "name": "stdout",
     "output_type": "stream",
     "text": [
      "CPU times: user 6 µs, sys: 1 µs, total: 7 µs\n",
      "Wall time: 10.3 µs\n"
     ]
    }
   ],
   "source": [
    "%%time\n",
    "def naive_search(liste,elt):\n",
    "    for i in range(len(liste)):\n",
    "        if liste[i] == elt:\n",
    "            return i\n",
    "    return -1"
   ]
  },
  {
   "cell_type": "code",
   "execution_count": 21,
   "id": "fdad2090",
   "metadata": {},
   "outputs": [
    {
     "name": "stdout",
     "output_type": "stream",
     "text": [
      "CPU times: user 195 µs, sys: 1 µs, total: 196 µs\n",
      "Wall time: 200 µs\n"
     ]
    },
    {
     "data": {
      "text/plain": [
       "2033"
      ]
     },
     "execution_count": 21,
     "metadata": {},
     "output_type": "execute_result"
    }
   ],
   "source": [
    "%%time\n",
    "naive_search(list_test, 4443)"
   ]
  },
  {
   "cell_type": "code",
   "execution_count": 22,
   "id": "c4290688",
   "metadata": {},
   "outputs": [],
   "source": [
    "def enumerate_search(liste,elt):\n",
    "    for i,item in enumerate(liste):\n",
    "        if item == elt:\n",
    "            return i\n",
    "    return -1"
   ]
  },
  {
   "cell_type": "code",
   "execution_count": 27,
   "id": "3ff0a3e5",
   "metadata": {},
   "outputs": [
    {
     "data": {
      "text/plain": [
       "3"
      ]
     },
     "execution_count": 27,
     "metadata": {},
     "output_type": "execute_result"
    }
   ],
   "source": [
    "enumerate_search(list_a, 4)"
   ]
  },
  {
   "cell_type": "code",
   "execution_count": 24,
   "id": "ae09e1cd",
   "metadata": {},
   "outputs": [],
   "source": [
    "def recursive_search(liste,elt,index=0):\n",
    "    if liste[0] == elt:\n",
    "        return index;\n",
    "    else:\n",
    "        # Proceed to recursion over the list where 1st element has been removed.\n",
    "        return recursive_search(liste[1:],elt,index+1)"
   ]
  },
  {
   "cell_type": "code",
   "execution_count": 31,
   "id": "193571dd",
   "metadata": {
    "scrolled": true
   },
   "outputs": [
    {
     "data": {
      "text/plain": [
       "3"
      ]
     },
     "execution_count": 31,
     "metadata": {},
     "output_type": "execute_result"
    }
   ],
   "source": [
    "recursive_search(list_a, 4)"
   ]
  },
  {
   "cell_type": "code",
   "execution_count": null,
   "id": "2c747c20",
   "metadata": {},
   "outputs": [],
   "source": []
  },
  {
   "cell_type": "code",
   "execution_count": null,
   "id": "422b4e97",
   "metadata": {},
   "outputs": [],
   "source": []
  },
  {
   "cell_type": "markdown",
   "id": "486267b7",
   "metadata": {},
   "source": [
    "> The principle consists of selecting the smallest value from the list and exchanging this value with the 1st value from the list, redoing this operation with the private list of the 1st value.\n",
    ">\n",
    "> - The list does not need to be ordered. \n",
    "> - We also note the absence of a test which bodes well for good performance.\n",
    "> - This algorithm uses the `min` method from list that implements an optimized algorithm.\n",
    ">\n",
    ">Algorithm\n",
    "> - 1 Traverse all `i` indices in the list\n",
    ">> - 1.1 Finding the minimum value of `list[i:]`, list starting at index `i`\n",
    ">> - 1.2 The `list[i]` value are swapped with the minimum value\n",
    ">> - 1.3 Go to 1.1"
   ]
  },
  {
   "cell_type": "code",
   "execution_count": 1,
   "id": "284e4347",
   "metadata": {},
   "outputs": [],
   "source": [
    "import random as rd #importing ramdom package"
   ]
  },
  {
   "cell_type": "code",
   "execution_count": 49,
   "id": "d3058398",
   "metadata": {},
   "outputs": [
    {
     "name": "stdout",
     "output_type": "stream",
     "text": [
      "[8, 9, 4, 16, 3, 12, 14, 18, 10, 17, 2, 15, 11, 7, 19, 1, 13, 5, 0, 6]\n"
     ]
    }
   ],
   "source": [
    "list_1 = list(range(20)) # Creating a list of 10 elements\n",
    "rd.shuffle(list_1) #Shuffling the created list\n",
    "print(list_1)"
   ]
  },
  {
   "cell_type": "code",
   "execution_count": 45,
   "id": "7effa0f7",
   "metadata": {},
   "outputs": [],
   "source": [
    "i = 0"
   ]
  },
  {
   "cell_type": "code",
   "execution_count": 50,
   "id": "d9335209",
   "metadata": {},
   "outputs": [
    {
     "data": {
      "text/plain": [
       "[8, 9, 4, 16, 3, 12, 14, 18, 10, 17, 2, 15, 11, 7, 19, 1, 13, 5, 0, 6]"
      ]
     },
     "execution_count": 50,
     "metadata": {},
     "output_type": "execute_result"
    }
   ],
   "source": [
    "list_1"
   ]
  },
  {
   "cell_type": "code",
   "execution_count": 31,
   "id": "64b455b9",
   "metadata": {},
   "outputs": [],
   "source": [
    "#Finding the index of the min value in the list\n",
    "min_value_index = int(list_1.index(min(list_1)))"
   ]
  },
  {
   "cell_type": "code",
   "execution_count": 34,
   "id": "2747951b",
   "metadata": {},
   "outputs": [],
   "source": [
    "#finding the minimum value in the list and swapping it with the 1st value\n",
    "list_1[i], list_1[min_value_index] = list_1[min_value_index], list_1[i] \n"
   ]
  },
  {
   "cell_type": "code",
   "execution_count": 51,
   "id": "f33f325c",
   "metadata": {},
   "outputs": [],
   "source": [
    "#Creating a function to sort a list\n",
    "def SelectionSort(ls: list) -> list:\n",
    "    # Creating a loop to find the minimum value of the list\n",
    "    for i in range(len(ls)):\n",
    "        if i <= len(ls):\n",
    "            #Finding the index of the min value in the list and incrementing the starting index of the next list \n",
    "            min_value_index = int(list_1.index(min(list_1[i:])))\n",
    "            #finding the minimum value in the list and swapping it with the 1st value\n",
    "            list_1[i], list_1[min_value_index] = list_1[min_value_index], list_1[i] \n",
    "        else:\n",
    "            pass\n",
    "    return ls"
   ]
  },
  {
   "cell_type": "code",
   "execution_count": 52,
   "id": "422c9ab7",
   "metadata": {},
   "outputs": [
    {
     "data": {
      "text/plain": [
       "[8, 9, 4, 16, 3, 12, 14, 18, 10, 17, 2, 15, 11, 7, 19, 1, 13, 5, 0, 6]"
      ]
     },
     "execution_count": 52,
     "metadata": {},
     "output_type": "execute_result"
    }
   ],
   "source": [
    "list_1"
   ]
  },
  {
   "cell_type": "code",
   "execution_count": 53,
   "id": "ad30757e",
   "metadata": {},
   "outputs": [
    {
     "name": "stdout",
     "output_type": "stream",
     "text": [
      "[0, 1, 2, 3, 4, 5, 6, 7, 8, 9, 10, 11, 12, 13, 14, 15, 16, 17, 18, 19]\n"
     ]
    }
   ],
   "source": [
    "SelectionSort(list_1)\n",
    "print(list_1)"
   ]
  },
  {
   "cell_type": "code",
   "execution_count": 41,
   "id": "8941bb82",
   "metadata": {},
   "outputs": [
    {
     "name": "stdout",
     "output_type": "stream",
     "text": [
      "[0, 1, 2, 3, 4, 5, 6, 7, 8, 9]\n"
     ]
    }
   ],
   "source": []
  },
  {
   "cell_type": "code",
   "execution_count": null,
   "id": "fa9de30f",
   "metadata": {},
   "outputs": [],
   "source": []
  }
 ],
 "metadata": {
  "kernelspec": {
   "display_name": "Python 3 (ipykernel)",
   "language": "python",
   "name": "python3"
  },
  "language_info": {
   "codemirror_mode": {
    "name": "ipython",
    "version": 3
   },
   "file_extension": ".py",
   "mimetype": "text/x-python",
   "name": "python",
   "nbconvert_exporter": "python",
   "pygments_lexer": "ipython3",
   "version": "3.9.12"
  }
 },
 "nbformat": 4,
 "nbformat_minor": 5
}

{
 "cells": [
  {
   "cell_type": "code",
   "execution_count": 1,
   "metadata": {},
   "outputs": [
    {
     "data": {
      "text/html": [
       "<b><font color='blus'>Iterators and generators</font></b>\n",
       "<div id=\"my_id_menu_nb\">run previous cell, wait for 2 seconds</div>\n",
       "<script>\n",
       "function repeat_indent_string(n){\n",
       "    var a = \"\" ;\n",
       "    for ( ; n > 0 ; --n)\n",
       "        a += \"    \";\n",
       "    return a;\n",
       "}\n",
       "// look up into all sections and builds an automated menu //\n",
       "var update_menu_string = function(begin, lfirst, llast, sformat, send, keep_item, begin_format, end_format) {\n",
       "    var anchors = document.getElementsByClassName(\"section\");\n",
       "    if (anchors.length == 0) {\n",
       "        anchors = document.getElementsByClassName(\"text_cell_render rendered_html\");\n",
       "    }\n",
       "    var i,t;\n",
       "    var text_menu = begin;\n",
       "    var text_memo = \"<pre>\\nlength:\" + anchors.length + \"\\n\";\n",
       "    var ind = \"\";\n",
       "    var memo_level = 1;\n",
       "    var href;\n",
       "    var tags = [];\n",
       "    var main_item = 0;\n",
       "    var format_open = 0;\n",
       "    for (i = 0; i <= llast; i++)\n",
       "        tags.push(\"h\" + i);\n",
       "\n",
       "    for (i = 0; i < anchors.length; i++) {\n",
       "        text_memo += \"**\" + anchors[i].id + \"--\\n\";\n",
       "\n",
       "        var child = null;\n",
       "        for(t = 0; t < tags.length; t++) {\n",
       "            var r = anchors[i].getElementsByTagName(tags[t]);\n",
       "            if (r.length > 0) {\n",
       "child = r[0];\n",
       "break;\n",
       "            }\n",
       "        }\n",
       "        if (child == null) {\n",
       "            text_memo += \"null\\n\";\n",
       "            continue;\n",
       "        }\n",
       "        if (anchors[i].hasAttribute(\"id\")) {\n",
       "            // when converted in RST\n",
       "            href = anchors[i].id;\n",
       "            text_memo += \"#1-\" + href;\n",
       "            // passer à child suivant (le chercher)\n",
       "        }\n",
       "        else if (child.hasAttribute(\"id\")) {\n",
       "            // in a notebook\n",
       "            href = child.id;\n",
       "            text_memo += \"#2-\" + href;\n",
       "        }\n",
       "        else {\n",
       "            text_memo += \"#3-\" + \"*\" + \"\\n\";\n",
       "            continue;\n",
       "        }\n",
       "        var title = child.textContent;\n",
       "        var level = parseInt(child.tagName.substring(1,2));\n",
       "\n",
       "        text_memo += \"--\" + level + \"?\" + lfirst + \"--\" + title + \"\\n\";\n",
       "\n",
       "        if ((level < lfirst) || (level > llast)) {\n",
       "            continue ;\n",
       "        }\n",
       "        if (title.endsWith('¶')) {\n",
       "            title = title.substring(0,title.length-1).replace(\"<\", \"&lt;\")\n",
       "         .replace(\">\", \"&gt;\").replace(\"&\", \"&amp;\");\n",
       "        }\n",
       "        if (title.length == 0) {\n",
       "            continue;\n",
       "        }\n",
       "\n",
       "        while (level < memo_level) {\n",
       "            text_menu += end_format + \"</ul>\\n\";\n",
       "            format_open -= 1;\n",
       "            memo_level -= 1;\n",
       "        }\n",
       "        if (level == lfirst) {\n",
       "            main_item += 1;\n",
       "        }\n",
       "        if (keep_item != -1 && main_item != keep_item + 1) {\n",
       "            // alert(main_item + \" - \" + level + \" - \" + keep_item);\n",
       "            continue;\n",
       "        }\n",
       "        while (level > memo_level) {\n",
       "            text_menu += \"<ul>\\n\";\n",
       "            memo_level += 1;\n",
       "        }\n",
       "        text_menu += repeat_indent_string(level-2);\n",
       "        text_menu += begin_format + sformat.replace(\"__HREF__\", href).replace(\"__TITLE__\", title);\n",
       "        format_open += 1;\n",
       "    }\n",
       "    while (1 < memo_level) {\n",
       "        text_menu += end_format + \"</ul>\\n\";\n",
       "        memo_level -= 1;\n",
       "        format_open -= 1;\n",
       "    }\n",
       "    text_menu += send;\n",
       "    //text_menu += \"\\n\" + text_memo;\n",
       "\n",
       "    while (format_open > 0) {\n",
       "        text_menu += end_format;\n",
       "        format_open -= 1;\n",
       "    }\n",
       "    return text_menu;\n",
       "};\n",
       "var update_menu = function() {\n",
       "    var sbegin = \"\";\n",
       "    var sformat = '<a href=\"#__HREF__\">__TITLE__</a>';\n",
       "    var send = \"\";\n",
       "    var begin_format = '<li>';\n",
       "    var end_format = '</li>';\n",
       "    var keep_item = -1;\n",
       "    var text_menu = update_menu_string(sbegin, 1, 4, sformat, send, keep_item,\n",
       "       begin_format, end_format);\n",
       "    var menu = document.getElementById(\"my_id_menu_nb\");\n",
       "    menu.innerHTML=text_menu;\n",
       "};\n",
       "window.setTimeout(update_menu,2000);\n",
       "            </script>"
      ],
      "text/plain": [
       "<IPython.core.display.HTML object>"
      ]
     },
     "execution_count": 1,
     "metadata": {},
     "output_type": "execute_result"
    }
   ],
   "source": [
    "from jyquickhelper import add_notebook_menu\n",
    "add_notebook_menu(first_level=1, last_level=4, header=\"<font color='blus'>Iterators and generators</font>\")"
   ]
  },
  {
   "cell_type": "markdown",
   "metadata": {},
   "source": [
    "# <font color='blus'> Iterators"
   ]
  },
  {
   "cell_type": "markdown",
   "metadata": {},
   "source": [
    "> An iterator makes it possible to manipulate large amounts of data without having to store them in memory.\n",
    ">\n",
    "> These data can be processed one by one and not necessarily in batch.\n",
    ">"
   ]
  },
  {
   "cell_type": "markdown",
   "metadata": {},
   "source": [
    "> How to recognize a `Python` iterator ?\n",
    ">\n",
    "> `list` is an iterator."
   ]
  },
  {
   "cell_type": "code",
   "execution_count": 2,
   "metadata": {},
   "outputs": [
    {
     "data": {
      "text/plain": [
       "True"
      ]
     },
     "execution_count": 2,
     "metadata": {},
     "output_type": "execute_result"
    }
   ],
   "source": [
    "'__iter__' in dir(list)"
   ]
  },
  {
   "cell_type": "code",
   "execution_count": 3,
   "metadata": {},
   "outputs": [
    {
     "data": {
      "text/plain": [
       "True"
      ]
     },
     "execution_count": 3,
     "metadata": {},
     "output_type": "execute_result"
    }
   ],
   "source": [
    "'__iter__' in dir(tuple)"
   ]
  },
  {
   "cell_type": "markdown",
   "metadata": {},
   "source": [
    "# <font color='blus'> Generators : `yield`"
   ]
  },
  {
   "cell_type": "markdown",
   "metadata": {},
   "source": [
    "> A generator is used in a loop like `for` or `while`. It produces a value for each one of the iteration.\n",
    ">\n",
    "> Using in a function, `yield` returns a generator.\n",
    ">\n",
    "> Generators can be paused then resumed."
   ]
  },
  {
   "cell_type": "code",
   "execution_count": 4,
   "metadata": {},
   "outputs": [],
   "source": [
    "def int_generator(n):\n",
    "    '''Integer generator.\n",
    "    '''\n",
    "    i = 0\n",
    "    while i < n:\n",
    "        yield i # each call to yield produces a value\n",
    "        i += 1"
   ]
  },
  {
   "cell_type": "markdown",
   "metadata": {},
   "source": [
    "> Then data from generator can be consumed"
   ]
  },
  {
   "cell_type": "code",
   "execution_count": 5,
   "metadata": {},
   "outputs": [
    {
     "name": "stdout",
     "output_type": "stream",
     "text": [
      "[0, 1, 2, 3, 4, 5, 6, 7, 8, 9]\n"
     ]
    }
   ],
   "source": [
    "list_int = list()\n",
    "for i in int_generator(10):\n",
    "    list_int.append(i)\n",
    "print(list_int)    "
   ]
  },
  {
   "cell_type": "markdown",
   "metadata": {},
   "source": [
    "> Once a generator is empty, you have to recreate one."
   ]
  },
  {
   "cell_type": "code",
   "execution_count": 6,
   "metadata": {},
   "outputs": [],
   "source": [
    "generator = int_generator(10)# Create a new generator"
   ]
  },
  {
   "cell_type": "code",
   "execution_count": 7,
   "metadata": {},
   "outputs": [
    {
     "name": "stdout",
     "output_type": "stream",
     "text": [
      "[0, 1, 2, 3, 4, 5, 6, 7, 8, 9]\n"
     ]
    }
   ],
   "source": [
    "list_int = list()\n",
    "for i in generator :\n",
    "    list_int.append(i)\n",
    "\n",
    "print(list_int)"
   ]
  },
  {
   "cell_type": "code",
   "execution_count": 8,
   "metadata": {},
   "outputs": [
    {
     "name": "stdout",
     "output_type": "stream",
     "text": [
      "[]\n"
     ]
    }
   ],
   "source": [
    "# Lets show that generator is empty\n",
    "list_int = list()\n",
    "for i in generator :\n",
    "    list_int.append(i)\n",
    "\n",
    "print(list_int)"
   ]
  },
  {
   "cell_type": "markdown",
   "metadata": {},
   "source": [
    "> Building of a generator in comprehension"
   ]
  },
  {
   "cell_type": "code",
   "execution_count": 11,
   "metadata": {},
   "outputs": [],
   "source": [
    "generator2 = (i for i in int_generator(20))"
   ]
  },
  {
   "cell_type": "code",
   "execution_count": 12,
   "metadata": {},
   "outputs": [
    {
     "name": "stdout",
     "output_type": "stream",
     "text": [
      "[0, 1, 2, 3, 4, 5, 6, 7, 8, 9, 10, 11, 12, 13, 14, 15, 16, 17, 18, 19]\n"
     ]
    }
   ],
   "source": [
    "# Mise en évidence de l'épuisement du générateur \n",
    "list_int = list()\n",
    "for i in generator2 :\n",
    "    list_int.append(i)\n",
    "\n",
    "print(list_int)"
   ]
  },
  {
   "cell_type": "markdown",
   "metadata": {},
   "source": [
    "> Retrieve the index and the value: `enumerate`"
   ]
  },
  {
   "cell_type": "code",
   "execution_count": 56,
   "metadata": {},
   "outputs": [],
   "source": [
    "generator2 = (-i for i in int_generator(20))"
   ]
  },
  {
   "cell_type": "code",
   "execution_count": 13,
   "metadata": {},
   "outputs": [],
   "source": [
    "for i, val in enumerate(generator2) :\n",
    "    print(i, val)"
   ]
  },
  {
   "cell_type": "code",
   "execution_count": 52,
   "metadata": {},
   "outputs": [
    {
     "name": "stdout",
     "output_type": "stream",
     "text": [
      "<generator object mygenerator at 0x7f446d87de40>\n",
      "1\n",
      "3\n"
     ]
    }
   ],
   "source": [
    "def mygenerator():\n",
    "    n = 1\n",
    "    yield n\n",
    "    n += 2\n",
    "    yield n\n",
    "\n",
    "print(mygenerator())\n",
    "for i in mygenerator() :\n",
    "    print(i)\n",
    "    if i == 10 :\n",
    "        break"
   ]
  },
  {
   "cell_type": "markdown",
   "metadata": {},
   "source": [
    "# <font color='blus'> Randomness"
   ]
  },
  {
   "cell_type": "markdown",
   "metadata": {},
   "source": [
    "## <font color='blus'> Generating random values"
   ]
  },
  {
   "cell_type": "markdown",
   "metadata": {},
   "source": [
    "### <font color='blus'> random.random"
   ]
  },
  {
   "cell_type": "markdown",
   "metadata": {},
   "source": [
    "> Generating a aandom number between 0 and 1"
   ]
  },
  {
   "cell_type": "code",
   "execution_count": 14,
   "metadata": {},
   "outputs": [
    {
     "name": "stdout",
     "output_type": "stream",
     "text": [
      "0.24615502986656357\n",
      "0.9652104833337973\n"
     ]
    }
   ],
   "source": [
    "import random\n",
    "print(random.random())\n",
    "print(random.random())"
   ]
  },
  {
   "cell_type": "markdown",
   "metadata": {},
   "source": [
    "> Successive calls to `random.random` return different random values."
   ]
  },
  {
   "cell_type": "markdown",
   "metadata": {},
   "source": [
    "> The `seed` method allows to generate the same random values for successive calls"
   ]
  },
  {
   "cell_type": "code",
   "execution_count": 15,
   "metadata": {},
   "outputs": [
    {
     "name": "stdout",
     "output_type": "stream",
     "text": [
      "[0.5714025946899135, 0.4288890546751146, 0.5780913011344704]\n"
     ]
    }
   ],
   "source": [
    "random.seed(10)\n",
    "list_random = [random.random() for _ in range(3)]\n",
    "print(list_random)"
   ]
  },
  {
   "cell_type": "code",
   "execution_count": 16,
   "metadata": {},
   "outputs": [
    {
     "name": "stdout",
     "output_type": "stream",
     "text": [
      "[0.5714025946899135, 0.4288890546751146, 0.5780913011344704]\n"
     ]
    }
   ],
   "source": [
    "random.seed(10)\n",
    "list_random = [random.random() for _ in range(3)]\n",
    "print(list_random)"
   ]
  },
  {
   "cell_type": "markdown",
   "metadata": {},
   "source": [
    "### <font color='blus'> random.range"
   ]
  },
  {
   "cell_type": "markdown",
   "metadata": {},
   "source": [
    "> Generating random values within a range of values."
   ]
  },
  {
   "cell_type": "code",
   "execution_count": 26,
   "metadata": {},
   "outputs": [
    {
     "name": "stdout",
     "output_type": "stream",
     "text": [
      "5\n",
      "[5, 3, 4, 3, 5, 4, 3, 4, 5, 4]\n",
      "[3, 5, 2, 1, 9, 3, 6, 3, 1, 4]\n"
     ]
    }
   ],
   "source": [
    "# Generating a random number between 3 and 5, upper limit is excluded\n",
    "print(random.randrange(3, 6))\n",
    "\n",
    "# Generating a random number between 3 and 6\n",
    "list_ = [random.randrange(3, 6) for i in range(10)]\n",
    "print(list_)\n",
    "\n",
    "# Generating a list of random numbers between 0 and 9\n",
    "list_ = [random.randrange(10) for i in range(10)]\n",
    "print(list_)"
   ]
  },
  {
   "cell_type": "markdown",
   "metadata": {},
   "source": [
    "## <font color='blus'> Selecting random values"
   ]
  },
  {
   "cell_type": "markdown",
   "metadata": {},
   "source": [
    "### <font color='blus'> random.choice"
   ]
  },
  {
   "cell_type": "code",
   "execution_count": null,
   "metadata": {},
   "outputs": [],
   "source": [
    "list_color = ['green', 'blue', 'pink', 'yellow', 'red']\n",
    "print(list_color)"
   ]
  },
  {
   "cell_type": "markdown",
   "metadata": {},
   "source": [
    "> We randomly choose an element in the list"
   ]
  },
  {
   "cell_type": "code",
   "execution_count": 71,
   "metadata": {},
   "outputs": [
    {
     "name": "stdout",
     "output_type": "stream",
     "text": [
      "yellow\n"
     ]
    }
   ],
   "source": [
    "print(random.choice(list_color))"
   ]
  },
  {
   "cell_type": "markdown",
   "metadata": {},
   "source": [
    "### <font color='blus'> random.sample"
   ]
  },
  {
   "cell_type": "markdown",
   "metadata": {},
   "source": [
    "> Generation of a random sample\n",
    ">\n",
    "> Below, the choice relates to a sample of size 1 in the list"
   ]
  },
  {
   "cell_type": "code",
   "execution_count": 69,
   "metadata": {},
   "outputs": [
    {
     "name": "stdout",
     "output_type": "stream",
     "text": [
      "['yellow']\n"
     ]
    }
   ],
   "source": [
    "print(random.sample(list_color,1))"
   ]
  },
  {
   "cell_type": "markdown",
   "metadata": {},
   "source": [
    "### <font color='blus'>random.shuffle"
   ]
  },
  {
   "cell_type": "markdown",
   "metadata": {},
   "source": [
    "> Shuffles the list passed as an argument and returns `None`."
   ]
  },
  {
   "cell_type": "code",
   "execution_count": 80,
   "metadata": {},
   "outputs": [
    {
     "name": "stdout",
     "output_type": "stream",
     "text": [
      "['green', 'red', 'blue', 'pink', 'yellow']\n",
      "['red', 'pink', 'yellow', 'green', 'blue']\n"
     ]
    }
   ],
   "source": [
    "print(list_color)\n",
    "random.shuffle(list_color)\n",
    "print(list_color)"
   ]
  },
  {
   "cell_type": "markdown",
   "metadata": {},
   "source": [
    "# <font color='blus'> Regular expressions"
   ]
  },
  {
   "cell_type": "markdown",
   "metadata": {},
   "source": [
    "* https://python.doctor/page-expressions-regulieres-regular-python"
   ]
  },
  {
   "cell_type": "markdown",
   "metadata": {},
   "source": [
    "> These expressions are used to detect a sequence of characters, mean, an expression, in another character sequence."
   ]
  },
  {
   "cell_type": "markdown",
   "metadata": {},
   "source": [
    "## <font color='blus'>Interpreted characters in regulars expressions"
   ]
  },
  {
   "cell_type": "markdown",
   "metadata": {},
   "source": [
    "> Interpreting a character means that character matches with a specific action.\n",
    ">\n",
    "> These characters are exclusively:\n",
    ">> . ^ $ * + ? { } [ ] \\ | ( )    "
   ]
  },
  {
   "cell_type": "markdown",
   "metadata": {},
   "source": [
    "These characters are interpreted as follows in regular expressions:\n",
    "\n",
    "- $.$ The dot matches any character.\n",
    "\n",
    "- `^` Indicates a beginning of a sequence but also means \"opposite of\"\n",
    "\n",
    "- `$` End of sequence\n",
    "\n",
    "- `[xy]` A list of possible characters. Example `[abc]` is equivalent to: `a` or `b` or `c`\n",
    "\n",
    "       [0-9] indicates that the list of possible characters is 0, 1, ..., 9\n",
    "\n",
    "- `(x|y)` Indicates a typical multiple choice (alfa|beta) is equivalent to \"alfa\" OR \"beta\"\n",
    "\n",
    "- `\\d` the sequence consists only of digits, which is equivalent to [0-9].\n",
    "\n",
    "- `\\D` the segment is not composed of digits, which is equivalent to [^0-9].\n",
    "\n",
    "- `\\s` A space, which is equivalent to [ \\t\\n\\r\\f\\v].\n",
    "\n",
    "- `\\S` No space, which is equivalent to [^ \\t\\n\\r\\f\\v].\n",
    "\n",
    "- `\\w` Alphanumeric presence, equivalent to [a-zA-Z0-9_].\n",
    "\n",
    "- `\\W` No alphanumeric presence [^a-zA-Z0-9_].\n",
    "\n",
    "- `\\` Is an escape character that allows any of the characters `. ^` `$` * + ? { } [ ] \\ | ( )` to be processedas a normal character.\n",
    "\n",
    "- `D{2}` indicates two occurrences of the character D\n",
    "\n",
    "- `REP{1,9}`: the REP sequence can be repeated from 1 to 9 times.\n",
    "\n",
    "- `REP{0,9}`: the REP sequence can be absent or repeated up to 9 times.\n",
    "\n",
    "- `REP{1,}`: the REP sequence is repeated at least once.\n",
    "\n",
    "- `(.)?` : 0 or 1 character expected in expression (any character)\n",
    "\n",
    "- `(.)+` : at least one character expected in the expression (any character(s))\n",
    "\n",
    "- `(.)*` : zero or more characters expected in the expression (any characters)"
   ]
  },
  {
   "cell_type": "markdown",
   "metadata": {},
   "source": [
    "## <font color='blus'>Matching an expression with a sequence: `re.match`"
   ]
  },
  {
   "cell_type": "code",
   "execution_count": 9,
   "metadata": {},
   "outputs": [],
   "source": [
    "import re"
   ]
  },
  {
   "cell_type": "markdown",
   "metadata": {},
   "source": [
    "> Checking of the presence of a sequence of characters in another sequence of characters"
   ]
  },
  {
   "cell_type": "code",
   "execution_count": 29,
   "metadata": {},
   "outputs": [
    {
     "name": "stdout",
     "output_type": "stream",
     "text": [
      "True\n"
     ]
    }
   ],
   "source": [
    "# Is the expression composed of any characters from A to Z and ending with S character present in \"DATASCIENCES\"?\n",
    "expression = '[A-Z]+S$'\n",
    "sequence = 'DATASCIENCES'\n",
    "res_match = re.match(expression, sequence)\n",
    "print('match' in str(type(res_match)).lower())"
   ]
  },
  {
   "cell_type": "markdown",
   "metadata": {},
   "source": [
    "> Syntax checking is achived when an expression matches with sequence building rule (sequence schema).\n",
    ">\n",
    "> This can be illustrated with a number phone.\n",
    ">\n",
    "> A phone number sequence is well-formed when the sequence :\n",
    ">> - starts with 0 --> `^0`\n",
    ">> - the zero is followed by a digit--> `^0([0-9])`\n",
    ">> - a space follows with two digits --> `^0([0-9])([\\s][0-9]{2})`\n",
    ">> - this last sequence is repeated 4 times --> `^0([0-9])([\\s][0-9]{2}){4}`.\n",
    "> \n",
    "> The expression built above allows to check if a french phone number is well-formed"
   ]
  },
  {
   "cell_type": "code",
   "execution_count": 30,
   "metadata": {},
   "outputs": [
    {
     "name": "stdout",
     "output_type": "stream",
     "text": [
      "True\n"
     ]
    }
   ],
   "source": [
    "sequence = '03 12 12 13 14'\n",
    "\n",
    "\n",
    "phone_syntax_french = \"^0([0-9])([\\s][0-9]{2}){4}\"\n",
    "res_match = re.match(phone_syntax_french, sequence)\n",
    "print('match' in str(type(res_match)).lower())"
   ]
  },
  {
   "cell_type": "markdown",
   "metadata": {},
   "source": [
    "## <font color='blus'>Find a pattern in a sequence: `re.findall`"
   ]
  },
  {
   "cell_type": "markdown",
   "metadata": {},
   "source": [
    "> A pattern is a sequence of characters.\n",
    "> \n",
    "> In the example above, `111` and `33` may be considered as patterns."
   ]
  },
  {
   "cell_type": "code",
   "execution_count": 32,
   "metadata": {},
   "outputs": [
    {
     "data": {
      "text/plain": [
       "['111', '33', '111', '33']"
      ]
     },
     "execution_count": 32,
     "metadata": {},
     "output_type": "execute_result"
    }
   ],
   "source": [
    "sequence = \"Hello 111 datasciences world 33! 11133\"\n",
    "expression = \"([0-9]{3}|[0-9]{2})\"\n",
    "re.findall(expression, sequence)"
   ]
  },
  {
   "cell_type": "markdown",
   "metadata": {},
   "source": [
    "> Even when attached, patterns are selectively found."
   ]
  },
  {
   "cell_type": "markdown",
   "metadata": {},
   "source": [
    "# <font color='blus'> Unpacking"
   ]
  },
  {
   "cell_type": "markdown",
   "metadata": {},
   "source": [
    "## <font color='blus'> Step through two iterators at the same time"
   ]
  },
  {
   "cell_type": "code",
   "execution_count": 33,
   "metadata": {},
   "outputs": [
    {
     "name": "stdout",
     "output_type": "stream",
     "text": [
      "('a', 1)\n",
      "('b', 2)\n",
      "('c', 3)\n"
     ]
    }
   ],
   "source": [
    "list_1 = ['a','b','c']# Iterator 1\n",
    "list_2 = [1,2,3]# Iterator 2\n",
    "for carac, number in zip(list_1, list_2) :\n",
    "    print((carac, number))"
   ]
  },
  {
   "cell_type": "markdown",
   "metadata": {},
   "source": [
    "## <font color='blus'> Using `*` character"
   ]
  },
  {
   "cell_type": "code",
   "execution_count": 180,
   "metadata": {},
   "outputs": [
    {
     "name": "stdout",
     "output_type": "stream",
     "text": [
      "('a', 'b', 'c')\n",
      "(1, 2, 3)\n"
     ]
    }
   ],
   "source": [
    "list_3 = [('a',1),('b',2),('c',3)]\n",
    "list_char, list_number = zip(*list_3)\n",
    "print(list_car)\n",
    "print(list_number)"
   ]
  },
  {
   "cell_type": "markdown",
   "metadata": {},
   "source": [
    "## <font color='blus'> Unpacking function arguments"
   ]
  },
  {
   "cell_type": "code",
   "execution_count": 184,
   "metadata": {},
   "outputs": [],
   "source": [
    "def mult(a:int, b:int) :\n",
    "    return a*b"
   ]
  },
  {
   "cell_type": "code",
   "execution_count": 185,
   "metadata": {},
   "outputs": [
    {
     "name": "stdout",
     "output_type": "stream",
     "text": [
      "12\n"
     ]
    }
   ],
   "source": [
    "list_arg = [3,4]\n",
    "print(mult(*list_arg))"
   ]
  },
  {
   "cell_type": "markdown",
   "metadata": {},
   "source": [
    "# <font color='blus'> Args et Kwargs"
   ]
  },
  {
   "cell_type": "code",
   "execution_count": 191,
   "metadata": {},
   "outputs": [],
   "source": [
    "def display_aguments(*args, **kwargs) :\n",
    "    print('args = {}'.format(args))\n",
    "    print(\"kwargs = {}\".format(kwargs))"
   ]
  },
  {
   "cell_type": "code",
   "execution_count": 192,
   "metadata": {},
   "outputs": [
    {
     "name": "stdout",
     "output_type": "stream",
     "text": [
      "args = ('a', 'b', 'c')\n",
      "kwargs = {'value1': 1, 'value2': 2}\n"
     ]
    }
   ],
   "source": [
    "display_aguments('a', 'b', 'c', value1 = 1, value2 = 2)"
   ]
  },
  {
   "cell_type": "markdown",
   "metadata": {},
   "source": [
    "> Any function defined with \\*`args` and \\*\\*`kwargs` accepts any number of anonymous or predefined arguments"
   ]
  },
  {
   "cell_type": "markdown",
   "metadata": {},
   "source": [
    "# <font color='blus'> Type `string`"
   ]
  },
  {
   "cell_type": "code",
   "execution_count": 205,
   "metadata": {},
   "outputs": [
    {
     "name": "stdout",
     "output_type": "stream",
     "text": [
      "1\n",
      "1\n",
      "1\n"
     ]
    }
   ],
   "source": [
    "index = -1\n",
    "index = \"TOTO\"[index+1:].find('O')\n",
    "print(index)\n",
    "index = \"TOTO\"[index+1:].find('O')\n",
    "print(index)\n",
    "index = \"TOTO\"[index+1:].find('O')\n",
    "print(index)\n"
   ]
  },
  {
   "cell_type": "code",
   "execution_count": 206,
   "metadata": {},
   "outputs": [
    {
     "name": "stdout",
     "output_type": "stream",
     "text": [
      "1\n"
     ]
    }
   ],
   "source": [
    "index = -1\n",
    "index = \"TOTO\"[index+1:].find('O')\n",
    "print(index)\n"
   ]
  },
  {
   "cell_type": "code",
   "execution_count": 207,
   "metadata": {},
   "outputs": [
    {
     "data": {
      "text/plain": [
       "'TO'"
      ]
     },
     "execution_count": 207,
     "metadata": {},
     "output_type": "execute_result"
    }
   ],
   "source": [
    "\"TOTO\"[index+1:]"
   ]
  },
  {
   "cell_type": "markdown",
   "metadata": {},
   "source": [
    "> A string is an invariant"
   ]
  },
  {
   "cell_type": "code",
   "execution_count": 49,
   "metadata": {},
   "outputs": [
    {
     "ename": "TypeError",
     "evalue": "'str' object does not support item assignment",
     "output_type": "error",
     "traceback": [
      "\u001b[0;31m---------------------------------------------------------------------------\u001b[0m",
      "\u001b[0;31mTypeError\u001b[0m                                 Traceback (most recent call last)",
      "Input \u001b[0;32mIn [49]\u001b[0m, in \u001b[0;36m<cell line: 1>\u001b[0;34m()\u001b[0m\n\u001b[0;32m----> 1\u001b[0m \u001b[38;5;124m\"\u001b[39m\u001b[38;5;124mTOTO\u001b[39m\u001b[38;5;124m\"\u001b[39m[\u001b[38;5;241m1\u001b[39m] \u001b[38;5;241m=\u001b[39m \u001b[38;5;124m'\u001b[39m\u001b[38;5;124m8\u001b[39m\u001b[38;5;124m'\u001b[39m\n",
      "\u001b[0;31mTypeError\u001b[0m: 'str' object does not support item assignment"
     ]
    }
   ],
   "source": [
    "\"TOTO\"[1] = '8'"
   ]
  },
  {
   "cell_type": "markdown",
   "metadata": {},
   "source": [
    "# <font color='blus'> Exercices"
   ]
  },
  {
   "cell_type": "markdown",
   "metadata": {},
   "source": [
    "## <font color='blus'> Exercice 1"
   ]
  },
  {
   "cell_type": "markdown",
   "metadata": {},
   "source": [
    "> Write a function with annotations that detect wether or not followings python objects are iterator or not.\n",
    ">\n",
    "> Test function with following types : `list`, `dict`, `tuple`\n",
    ">\n",
    "> Create a generator and test it with your function."
   ]
  },
  {
   "cell_type": "code",
   "execution_count": 7,
   "metadata": {},
   "outputs": [
    {
     "data": {
      "text/plain": [
       "True"
      ]
     },
     "execution_count": 7,
     "metadata": {},
     "output_type": "execute_result"
    }
   ],
   "source": [
    "'__iter__' in dir(list)"
   ]
  },
  {
   "cell_type": "code",
   "execution_count": 8,
   "metadata": {},
   "outputs": [
    {
     "data": {
      "text/plain": [
       "list"
      ]
     },
     "execution_count": 8,
     "metadata": {},
     "output_type": "execute_result"
    }
   ],
   "source": [
    "type(dir(list))"
   ]
  },
  {
   "cell_type": "code",
   "execution_count": 9,
   "metadata": {},
   "outputs": [],
   "source": [
    "def check_iter(x: list) -> bool:\n",
    "    return '__iter__' in dir(x)"
   ]
  },
  {
   "cell_type": "code",
   "execution_count": 11,
   "metadata": {},
   "outputs": [
    {
     "data": {
      "text/plain": [
       "(True, True, True)"
      ]
     },
     "execution_count": 11,
     "metadata": {},
     "output_type": "execute_result"
    }
   ],
   "source": [
    "check_iter(list), check_iter(dict), check_iter(tuple)"
   ]
  },
  {
   "cell_type": "code",
   "execution_count": 12,
   "metadata": {},
   "outputs": [
    {
     "name": "stdout",
     "output_type": "stream",
     "text": [
      "[0, 1, 2, 3, 4, 5, 6, 7, 8, 9]\n"
     ]
    }
   ],
   "source": [
    "def int_generator(n):\n",
    "    '''Integer generator.\n",
    "    '''\n",
    "    i = 0\n",
    "    while i < n:\n",
    "        yield i # each call to yield produces a value\n",
    "        i += 1\n",
    "        \n",
    "list_int = list()\n",
    "for i in int_generator(10):\n",
    "    list_int.append(i)\n",
    "print(list_int) "
   ]
  },
  {
   "cell_type": "code",
   "execution_count": null,
   "metadata": {},
   "outputs": [],
   "source": [
    "def check_iter(x: list) -> bool:\n",
    "    for i in "
   ]
  },
  {
   "cell_type": "code",
   "execution_count": 59,
   "metadata": {},
   "outputs": [
    {
     "data": {
      "text/plain": [
       "('list', 'dict', 'tuple')"
      ]
     },
     "execution_count": 59,
     "metadata": {},
     "output_type": "execute_result"
    }
   ],
   "source": [
    "list_1 = (\"list\",\"dict\",\"tuple\")\n",
    "list_1"
   ]
  },
  {
   "cell_type": "code",
   "execution_count": 60,
   "metadata": {},
   "outputs": [
    {
     "name": "stdout",
     "output_type": "stream",
     "text": [
      "True\n",
      "True\n",
      "True\n"
     ]
    }
   ],
   "source": [
    "for i in list_1:\n",
    "    print(check_iter(i))"
   ]
  },
  {
   "cell_type": "code",
   "execution_count": 61,
   "metadata": {},
   "outputs": [
    {
     "data": {
      "text/plain": [
       "True"
      ]
     },
     "execution_count": 61,
     "metadata": {},
     "output_type": "execute_result"
    }
   ],
   "source": [
    "check_iter(list_1)"
   ]
  },
  {
   "cell_type": "code",
   "execution_count": 73,
   "metadata": {},
   "outputs": [
    {
     "name": "stdout",
     "output_type": "stream",
     "text": [
      "<generator object check_iter_using_generator at 0x7f9b037c62e0>\n"
     ]
    }
   ],
   "source": [
    "def check_iter_using_generator(x: list) -> bool:\n",
    "        yield '__iter__' in dir(x) \n",
    "\n",
    "check_iter_generator = check_iter_using_generator(list_1)\n",
    "print(check_iter_generator)\n",
    "    "
   ]
  },
  {
   "cell_type": "code",
   "execution_count": 74,
   "metadata": {},
   "outputs": [
    {
     "name": "stdout",
     "output_type": "stream",
     "text": [
      "True\n"
     ]
    }
   ],
   "source": [
    "for i in check_iter_generator:\n",
    "    print(i)"
   ]
  },
  {
   "cell_type": "code",
   "execution_count": 78,
   "metadata": {},
   "outputs": [
    {
     "name": "stdout",
     "output_type": "stream",
     "text": [
      "<generator object check_iter_using_generator at 0x7f9b037c6970>\n",
      "True\n"
     ]
    }
   ],
   "source": [
    "def check_iter_using_generator(x: list) -> bool:\n",
    "        yield '__iter__' in dir(x) \n",
    "\n",
    "check_iter_generator = check_iter_using_generator(\"tuple\")\n",
    "print(check_iter_generator)\n",
    "for i in check_iter_generator:\n",
    "    print(i)"
   ]
  },
  {
   "cell_type": "code",
   "execution_count": null,
   "metadata": {},
   "outputs": [],
   "source": []
  },
  {
   "cell_type": "markdown",
   "metadata": {},
   "source": [
    "## <font color='blus'> Exercice 2"
   ]
  },
  {
   "cell_type": "markdown",
   "metadata": {},
   "source": [
    "> Write functions that randomly replace a given character is an any string.\n",
    ">\n",
    "> - 1st function will use arguments : `replace_character_in_string(input_string, character)`\n",
    "> - 2nd function will use `*args`\n",
    "> - third one will use `**kwargs`"
   ]
  },
  {
   "cell_type": "code",
   "execution_count": 113,
   "metadata": {},
   "outputs": [],
   "source": [
    "from random import randint"
   ]
  },
  {
   "cell_type": "code",
   "execution_count": 174,
   "metadata": {},
   "outputs": [],
   "source": [
    "input_string = \"hello\"\n",
    "character = \"c\""
   ]
  },
  {
   "cell_type": "code",
   "execution_count": 169,
   "metadata": {},
   "outputs": [],
   "source": [
    "#replacing a given character randomly using arguments\n",
    "def replace_character_in_string(input_string: str, character: str) -> str:\n",
    "    temp = list(input_string) #converting the input string to a list\n",
    "    temp[randint(0,len(input_string))] = character #replacing the given character in a random index of the input string \n",
    "    string = \"\".join(temp) #adding to the string\n",
    "    print(string)"
   ]
  },
  {
   "cell_type": "code",
   "execution_count": 171,
   "metadata": {},
   "outputs": [
    {
     "name": "stdout",
     "output_type": "stream",
     "text": [
      "hellc\n"
     ]
    }
   ],
   "source": [
    "replace_character_in_string(input_string,character) #check"
   ]
  },
  {
   "cell_type": "code",
   "execution_count": null,
   "metadata": {},
   "outputs": [],
   "source": [
    "#replacing a given character randomly using *args"
   ]
  },
  {
   "cell_type": "code",
   "execution_count": null,
   "metadata": {},
   "outputs": [],
   "source": [
    "def display_aguments(*args, **kwargs) :\n",
    "    print('args = {}'.format(args))\n",
    "    print(\"kwargs = {}\".format(kwargs))"
   ]
  },
  {
   "cell_type": "code",
   "execution_count": 184,
   "metadata": {},
   "outputs": [],
   "source": [
    "#replacing a given character randomly using args\n",
    "def replace_character_in_string(*args, **kwargs) -> str:\n",
    "    temp = list(input_string) #converting the input string to a list\n",
    "    temp[randint(0,len(input_string))] = character #replacing the given character in a random index of the input string \n",
    "    string = \"\".join(temp) #adding to the string\n",
    "    print(string)"
   ]
  },
  {
   "cell_type": "code",
   "execution_count": 185,
   "metadata": {},
   "outputs": [],
   "source": [
    "input_string = \"hello world\"\n",
    "character = \"a\""
   ]
  },
  {
   "cell_type": "code",
   "execution_count": null,
   "metadata": {},
   "outputs": [],
   "source": []
  },
  {
   "cell_type": "code",
   "execution_count": 186,
   "metadata": {},
   "outputs": [
    {
     "name": "stdout",
     "output_type": "stream",
     "text": [
      "hallo world\n"
     ]
    }
   ],
   "source": [
    "replace_character_in_string(input_string, character) #check"
   ]
  },
  {
   "cell_type": "code",
   "execution_count": null,
   "metadata": {},
   "outputs": [],
   "source": []
  },
  {
   "cell_type": "code",
   "execution_count": null,
   "metadata": {},
   "outputs": [],
   "source": []
  },
  {
   "cell_type": "code",
   "execution_count": null,
   "metadata": {},
   "outputs": [],
   "source": []
  },
  {
   "cell_type": "markdown",
   "metadata": {},
   "source": [
    "## <font color='blus'> Exercice 3"
   ]
  },
  {
   "cell_type": "markdown",
   "metadata": {},
   "source": [
    "> Define a generator that returns an even number for each iteration.\n",
    ">\n",
    "> "
   ]
  },
  {
   "cell_type": "code",
   "execution_count": 190,
   "metadata": {},
   "outputs": [],
   "source": [
    "import random as rd"
   ]
  },
  {
   "cell_type": "code",
   "execution_count": 221,
   "metadata": {},
   "outputs": [],
   "source": [
    "#creating a generator function to choose an even number within a given range\n",
    "def generator_to_return_even_numbers(x: int) -> int:\n",
    "    yield rd.choice(range(0, x, 2)) #choose an even number within 0 to x"
   ]
  },
  {
   "cell_type": "code",
   "execution_count": 222,
   "metadata": {},
   "outputs": [
    {
     "name": "stdout",
     "output_type": "stream",
     "text": [
      "<generator object generator_to_return_even_numbers at 0x7f9b04437820>\n",
      "672\n"
     ]
    }
   ],
   "source": [
    "check_even_generator = generator_to_return_even_numbers(1000)\n",
    "print(check_even_generator)\n",
    "for i in check_even_generator:\n",
    "    print(i)"
   ]
  },
  {
   "cell_type": "markdown",
   "metadata": {},
   "source": [
    "## <font color='blus'> Exercice 4"
   ]
  },
  {
   "cell_type": "markdown",
   "metadata": {},
   "source": [
    "> Create an expression that verifies that the followings URL are valid (or not).\n",
    ">\n",
    "> http://www.oliviertango.com or http://www.oliviertango.fr\n",
    ">\n",
    "> Define a function that implements the verification process.\n",
    ">> - Function prints `TRUE` when valid,  `FALSE` otherwise.\n",
    ">> - Uses method `groups` from result of `re.search`\n",
    ">\n",
    "> Methodology : \n",
    ">> - build your expression step by step and keep a track of each step.\n",
    ">> - organize yourself, take time to define your plan to deliver this exercice"
   ]
  },
  {
   "cell_type": "code",
   "execution_count": 224,
   "metadata": {},
   "outputs": [],
   "source": [
    "import re"
   ]
  },
  {
   "cell_type": "code",
   "execution_count": 299,
   "metadata": {},
   "outputs": [],
   "source": [
    "#Check whether the given URL is valid or not\n",
    "def check_url_validity(url: str) -> str:\n",
    "    URL_syntax_start = \"(^http://www.)\" #syntax to check whether the start of the URL is \"http://www.\"\n",
    "    res_match_start = re.match(URL_syntax_start, URL) #check the start of the URL using match function from re\n",
    "    start = 'Match' in str(type(res_match_start)) \n",
    "    URL_syntax_french = \".com$\"  #syntax to check wheteher the end of the URL is \".com\"\n",
    "    res_search_end = re.search(URL_syntax_french, URL) #syntax to check whether the end of the URL is .com\n",
    "    end = 'Match' in str(type(res_search_end))\n",
    "    return True if start == end else False #retuns True if start of the URL is \"http://www.\" and end is \".com\""
   ]
  },
  {
   "cell_type": "code",
   "execution_count": 300,
   "metadata": {},
   "outputs": [],
   "source": [
    "URL = 'http://www.oliviertango.com'"
   ]
  },
  {
   "cell_type": "code",
   "execution_count": 301,
   "metadata": {},
   "outputs": [
    {
     "data": {
      "text/plain": [
       "True"
      ]
     },
     "execution_count": 301,
     "metadata": {},
     "output_type": "execute_result"
    }
   ],
   "source": [
    "check_url_validity(URL)"
   ]
  },
  {
   "cell_type": "code",
   "execution_count": null,
   "metadata": {},
   "outputs": [],
   "source": []
  }
 ],
 "metadata": {
  "kernelspec": {
   "display_name": "Python 3 (ipykernel)",
   "language": "python",
   "name": "python3"
  },
  "language_info": {
   "codemirror_mode": {
    "name": "ipython",
    "version": 3
   },
   "file_extension": ".py",
   "mimetype": "text/x-python",
   "name": "python",
   "nbconvert_exporter": "python",
   "pygments_lexer": "ipython3",
   "version": "3.9.12"
  }
 },
 "nbformat": 4,
 "nbformat_minor": 4
}
